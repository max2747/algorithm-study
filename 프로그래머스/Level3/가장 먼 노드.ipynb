{
 "cells": [
  {
   "cell_type": "markdown",
   "metadata": {},
   "source": [
    "#### idea : BFS로 풀기\n",
    "    - root node가 1이라고 문제에서 가정했기 때문에 1에서 갈 수 있는 다른 노드를 리스트에 저장. \n",
    "    - pop()을 한 뒤(먼저 저장된 node부터), 갈 수 있는 노드를 append()로 리스트에 저장. 이렇게 하면 같은 depth에 있는 노드가 방문이 끝나야지 다음 depth의 노드를 방문하게 됨.\n",
    "    - 거리를 저장할 때는 현재 노드의 거리 + 1로 저장. \n",
    "    - 2차원 matrix로 graph representation"
   ]
  },
  {
   "cell_type": "code",
   "execution_count": 1,
   "metadata": {},
   "outputs": [],
   "source": [
    "def solution(n, edge):\n",
    "    # graph representation\n",
    "    graph =[[] for _ in range(n) ]\n",
    "    for (a, b) in edge:\n",
    "        graph[a-1].append(b-1)\n",
    "        graph[b-1].append(a-1)\n",
    "        \n",
    "    # 1 -> 각각의 node까지 거리를 저장할 list\n",
    "    distances = [ 0 for _ in range(n) ]\n",
    "    # 방문한 노드 표시\n",
    "    is_visit = [False for _ in range(n)]\n",
    "    queue = [0]\n",
    "    is_visit[0] = True\n",
    "\n",
    "    while queue:\n",
    "        i = queue.pop(0)\n",
    "        for j in graph[i]:\n",
    "            if is_visit[j] == False:\n",
    "                is_visit[j] = True\n",
    "                queue.append(j)\n",
    "                distances[j] = distances[i] + 1\n",
    "                \n",
    "    max_distance = max(distances)\n",
    "    answer = distances.count(max_distance)\n",
    "\n",
    "    return answer"
   ]
  },
  {
   "cell_type": "code",
   "execution_count": 2,
   "metadata": {},
   "outputs": [
    {
     "data": {
      "text/plain": [
       "3"
      ]
     },
     "execution_count": 2,
     "metadata": {},
     "output_type": "execute_result"
    }
   ],
   "source": [
    "solution(6, [[3, 6], [4, 3], [3, 2], [1, 3], [1, 2], [2, 4], [5, 2]])"
   ]
  },
  {
   "cell_type": "code",
   "execution_count": null,
   "metadata": {},
   "outputs": [],
   "source": []
  }
 ],
 "metadata": {
  "kernelspec": {
   "display_name": "Python 3",
   "language": "python",
   "name": "python3"
  },
  "language_info": {
   "codemirror_mode": {
    "name": "ipython",
    "version": 3
   },
   "file_extension": ".py",
   "mimetype": "text/x-python",
   "name": "python",
   "nbconvert_exporter": "python",
   "pygments_lexer": "ipython3",
   "version": "3.7.3"
  }
 },
 "nbformat": 4,
 "nbformat_minor": 2
}
