{
 "cells": [
  {
   "cell_type": "code",
   "execution_count": 25,
   "metadata": {},
   "outputs": [],
   "source": [
    "def solution(n, results):\n",
    "    answer = []\n",
    "    win_dict = {}\n",
    "    lose_dict = {}\n",
    "    for r in results:\n",
    "        win_dict[r[0]] = win_dict.get(r[0], []) + [r[1]]\n",
    "        lose_dict[r[1]] = lose_dict.get(r[1], []) + [r[0]]\n",
    "    \n",
    "    #print(lose_dict)\n",
    "    fix_ranking = []\n",
    "    for i in range(1, n+1):\n",
    "        a = win_dict.get(i, [])\n",
    "        if len(a) > 0:\n",
    "            for winner in a:\n",
    "                tmp = [j for j in win_dict.get(winner, []) if j not in win_dict[i]]\n",
    "                win_dict[i].extend(tmp)\n",
    "        \n",
    "        b = lose_dict.get(i, [])\n",
    "        if len(b) > 0:\n",
    "            for loser in b:\n",
    "                tmp = [j for j in lose_dict.get(loser, []) if j not in lose_dict[i]]\n",
    "                lose_dict[i].extend(tmp)\n",
    "#     print(win_dict)\n",
    "#     print(lose_dict)\n",
    "    for i in range(1, n+1):\n",
    "        if len(win_dict.get(i, []) + lose_dict.get(i, [])) == n-1:\n",
    "            answer.append(i)\n",
    "    return len(answer)\n",
    "# #         if len(win_dict.get(i, []) + lose_dict.get(i, [])) == n-1:\n",
    "# #             fix_ranking.append(i)\n",
    "#     print(fix_ranking)\n",
    "#     tmp = []\n",
    "#     for i in fix_ranking:\n",
    "#         #print(win_dict.get(i, []))\n",
    "#         if len(win_dict.get(i, [])) == 1 :\n",
    "#             tmp.append(win_dict[i][0])\n",
    "#         if len(lose_dict.get(i, [])) == 1 :\n",
    "#             tmp.append(lose_dict[i][0])\n",
    "#     answer = len(fix_ranking + tmp)\n",
    "#     return answer"
   ]
  },
  {
   "cell_type": "code",
   "execution_count": 26,
   "metadata": {},
   "outputs": [
    {
     "data": {
      "text/plain": [
       "2"
      ]
     },
     "execution_count": 26,
     "metadata": {},
     "output_type": "execute_result"
    }
   ],
   "source": [
    "solution(5, [[4, 3], [4, 2], [3, 2], [1, 2], [2, 5]])"
   ]
  },
  {
   "cell_type": "code",
   "execution_count": 20,
   "metadata": {},
   "outputs": [
    {
     "name": "stdout",
     "output_type": "stream",
     "text": [
      "{1: {2, 5}, 2: {5}, 3: {2, 5}, 4: {2, 3, 5}, 5: set()}\n",
      "{1: set(), 2: {1, 3, 4}, 3: {4}, 4: set(), 5: {1, 2, 3, 4}}\n"
     ]
    },
    {
     "data": {
      "text/plain": [
       "2"
      ]
     },
     "execution_count": 20,
     "metadata": {},
     "output_type": "execute_result"
    }
   ],
   "source": [
    "solution(5, [[4, 3], [4, 2], [3, 2], [1, 2], [2, 5]])"
   ]
  },
  {
   "cell_type": "code",
   "execution_count": 19,
   "metadata": {},
   "outputs": [],
   "source": [
    "def solution(n, results):\n",
    "    # wins[key] = key가 이긴 사람들의 집합\n",
    "    # loses[key] = key가 이기지 못한 사람들의 집합\n",
    "    wins, loses = {}, {}\n",
    "    for i in range(1, n+1):\n",
    "        wins[i], loses[i] = set(), set()\n",
    "    \n",
    "    for i in range(1, n+1):\n",
    "        for battle in results:\n",
    "            if battle[0] == i: # i의 승리. i가 이긴 사람들\n",
    "                wins[i].add(battle[1])\n",
    "            if battle[1] == i: # i의 패배. i가 진 사람들\n",
    "                loses[i].add(battle[0])\n",
    "        # i를 이긴 사람들 (loses[i]) => i에게 진 사람(wins[i])은 반드시 이긴다\n",
    "        for winner in loses[i]:\n",
    "            wins[winner].update(wins[i])\n",
    "        # i에게 진 사람들 (wins[i]) => i를 이긴 사람들(loses[i])에게는 반드시 진다\n",
    "        for loser in wins[i]:\n",
    "            loses[loser].update(loses[i])\n",
    "    print(wins)\n",
    "    print(loses)\n",
    "    cnt = 0\n",
    "    for i in range(1, n+1):\n",
    "        if len(wins[i]) + len(loses[i]) == n - 1:\n",
    "            cnt += 1\n",
    "    return cnt"
   ]
  },
  {
   "cell_type": "code",
   "execution_count": null,
   "metadata": {},
   "outputs": [],
   "source": []
  }
 ],
 "metadata": {
  "kernelspec": {
   "display_name": "Python 3",
   "language": "python",
   "name": "python3"
  },
  "language_info": {
   "codemirror_mode": {
    "name": "ipython",
    "version": 3
   },
   "file_extension": ".py",
   "mimetype": "text/x-python",
   "name": "python",
   "nbconvert_exporter": "python",
   "pygments_lexer": "ipython3",
   "version": "3.7.3"
  }
 },
 "nbformat": 4,
 "nbformat_minor": 2
}
