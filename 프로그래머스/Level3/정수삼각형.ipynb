{
 "cells": [
  {
   "cell_type": "code",
   "execution_count": 83,
   "metadata": {},
   "outputs": [],
   "source": [
    "def solution(triangle):\n",
    "    height = len(triangle)\n",
    "    cost = [[0 for j in range(i)] for i in range(1, height+1)]\n",
    "    cost[0] = [triangle[0][0] ]\n",
    "    answer = 0\n",
    "    for level, level_list in enumerate(triangle):\n",
    "        if level == 0: continue\n",
    "        for idx, val in enumerate(level_list):\n",
    "            if idx == 0: # 처음 시작\n",
    "                cost[level][idx] = cost[level-1][idx] + triangle[level][idx]\n",
    "            elif idx == len(level_list)-1 : # 끝\n",
    "                cost[level][idx] = cost[level-1][idx-1] + triangle[level][idx]\n",
    "            else:\n",
    "                cal = max(cost[level-1][idx-1], cost[level-1][idx]) + triangle[level][idx]\n",
    "                cost[level][idx] = cal\n",
    "    answer = max(cost[-1])\n",
    "    return answer"
   ]
  },
  {
   "cell_type": "code",
   "execution_count": 84,
   "metadata": {},
   "outputs": [
    {
     "data": {
      "text/plain": [
       "30"
      ]
     },
     "execution_count": 84,
     "metadata": {},
     "output_type": "execute_result"
    }
   ],
   "source": [
    "solution(test_case)"
   ]
  }
 ],
 "metadata": {
  "kernelspec": {
   "display_name": "Python 3",
   "language": "python",
   "name": "python3"
  },
  "language_info": {
   "codemirror_mode": {
    "name": "ipython",
    "version": 3
   },
   "file_extension": ".py",
   "mimetype": "text/x-python",
   "name": "python",
   "nbconvert_exporter": "python",
   "pygments_lexer": "ipython3",
   "version": "3.7.3"
  }
 },
 "nbformat": 4,
 "nbformat_minor": 2
}
