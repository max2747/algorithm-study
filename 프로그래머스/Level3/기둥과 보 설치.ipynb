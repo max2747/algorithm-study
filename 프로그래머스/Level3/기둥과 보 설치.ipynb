{
 "cells": [
  {
   "cell_type": "code",
   "execution_count": 1,
   "metadata": {},
   "outputs": [],
   "source": [
    "test_1 = (5, [[1, 0, 0, 1], [1, 1, 1, 1], [2, 1, 0, 1], [2, 2, 1, 1], \n",
    "              [5, 0, 0, 1], [5, 1, 0, 1], [4, 2, 1, 1], [3, 2, 1, 1]])\n",
    "test_2 = (5, [[0,0,0,1],[2,0,0,1],[4,0,0,1],[0,1,1,1],[1,1,1,1],\n",
    "              [2,1,1,1],[3,1,1,1],[2,0,0,0],[1,1,1,0],[2,2,0,1]])"
   ]
  },
  {
   "cell_type": "code",
   "execution_count": 2,
   "metadata": {},
   "outputs": [],
   "source": [
    "def solution(n, build_frame):\n",
    "    def check(blist):\n",
    "        for i in blist:\n",
    "            x, y, w = i\n",
    "            if w == 0 : \n",
    "                # 지상에 설치, 왼쪽에 보가 있음, 아래 기둥이 있음 # 위치에 보가 있음.\n",
    "                if y == 0 or [x-1, y, 1] in blist or [x, y-1, 0] in blist or [x, y, 1] in blist:\n",
    "                    continue\n",
    "                else:\n",
    "                    return False\n",
    "            else: # 보 삽입\n",
    "                # 아래 기둥, 양 옆 보, 오른쪽에 기둥 있음.\n",
    "                if [x, y-1, 0] in blist or ([x-1, y, 1] in blist and [x+1, y, 1] in blist) or [x+1, y-1, 0] in blist:\n",
    "                    continue\n",
    "                else:\n",
    "                    return False\n",
    "        return True\n",
    "    \n",
    "    answer = []\n",
    "    for b in build_frame:\n",
    "        x, y, w, a = b\n",
    "        if a == 1: # 삽입\n",
    "            answer.append([x, y, w])\n",
    "            if check(answer) is False:\n",
    "                answer.remove([x, y, w])\n",
    "            \n",
    "        else: # 삭제\n",
    "            answer.remove([x, y, w])\n",
    "            if check(answer) is False:\n",
    "                answer.append([x, y, w])\n",
    "    answer.sort()\n",
    "    return answer"
   ]
  },
  {
   "cell_type": "code",
   "execution_count": 3,
   "metadata": {},
   "outputs": [
    {
     "data": {
      "text/plain": [
       "[[1, 0, 0],\n",
       " [1, 1, 1],\n",
       " [2, 1, 0],\n",
       " [2, 2, 1],\n",
       " [3, 2, 1],\n",
       " [4, 2, 1],\n",
       " [5, 0, 0],\n",
       " [5, 1, 0]]"
      ]
     },
     "metadata": {},
     "output_type": "display_data"
    },
    {
     "name": "stdout",
     "output_type": "stream",
     "text": [
      "----------------------------------------\n"
     ]
    },
    {
     "data": {
      "text/plain": [
       "[[0, 0, 0], [0, 1, 1], [1, 1, 1], [2, 1, 1], [3, 1, 1], [4, 0, 0]]"
      ]
     },
     "metadata": {},
     "output_type": "display_data"
    }
   ],
   "source": [
    "display(solution(test_1[0], test_1[1]))\n",
    "print(\"-\" * 40)\n",
    "display(solution(test_2[0], test_2[1]))"
   ]
  },
  {
   "cell_type": "code",
   "execution_count": null,
   "metadata": {},
   "outputs": [],
   "source": []
  }
 ],
 "metadata": {
  "kernelspec": {
   "display_name": "Python 3",
   "language": "python",
   "name": "python3"
  },
  "language_info": {
   "codemirror_mode": {
    "name": "ipython",
    "version": 3
   },
   "file_extension": ".py",
   "mimetype": "text/x-python",
   "name": "python",
   "nbconvert_exporter": "python",
   "pygments_lexer": "ipython3",
   "version": "3.7.3"
  }
 },
 "nbformat": 4,
 "nbformat_minor": 2
}
