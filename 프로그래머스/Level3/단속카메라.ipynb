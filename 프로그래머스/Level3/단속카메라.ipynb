{
 "cells": [
  {
   "cell_type": "code",
   "execution_count": 32,
   "metadata": {},
   "outputs": [],
   "source": [
    "def solution(routes):\n",
    "    answer = 0\n",
    "    # 핵심 : routes들을 차가 나가는 지점을 기준으로 오름차순으로 정렬함.\n",
    "    # 나가는 기준으로 카메라를 설치할 경우, 추가 카메라를 설치하기 위해서 설치한 카메라 위치로부터 오른쪽으로 들어온 차량만 신경쓰면 됨.\n",
    "    routes = sorted(routes, key=lambda x:x[1])\n",
    "    # 먼저 가장 왼쪽에 위치한 출구에 카메라 설치.\n",
    "    set_camera_loc = routes[0][1]\n",
    "    # 카메라 1대 설치\n",
    "    answer += 1\n",
    "    for route in routes[1:]:\n",
    "        # 들어오는 차량의 위치가 설치한 카메라보다 클 경우(오른쪽에 위치할 경우)\n",
    "        if route[0] > set_camera_loc:\n",
    "            answer += 1 # 카메라 추가 설치\n",
    "            # 가장 오른쪽에 있는 카메라 위치 변경\n",
    "            set_camera_loc = route[1]\n",
    "        \n",
    "    return answer"
   ]
  },
  {
   "cell_type": "code",
   "execution_count": 10,
   "metadata": {},
   "outputs": [],
   "source": [
    "test_case = [[-20, 15], [-14, -5], [-18, -13], [-5, -3]]"
   ]
  },
  {
   "cell_type": "code",
   "execution_count": 34,
   "metadata": {},
   "outputs": [
    {
     "data": {
      "text/plain": [
       "2"
      ]
     },
     "execution_count": 34,
     "metadata": {},
     "output_type": "execute_result"
    }
   ],
   "source": [
    "solution(test_case)"
   ]
  }
 ],
 "metadata": {
  "kernelspec": {
   "display_name": "Python 3",
   "language": "python",
   "name": "python3"
  },
  "language_info": {
   "codemirror_mode": {
    "name": "ipython",
    "version": 3
   },
   "file_extension": ".py",
   "mimetype": "text/x-python",
   "name": "python",
   "nbconvert_exporter": "python",
   "pygments_lexer": "ipython3",
   "version": "3.7.3"
  }
 },
 "nbformat": 4,
 "nbformat_minor": 2
}
