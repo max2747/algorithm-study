{
 "cells": [
  {
   "cell_type": "markdown",
   "metadata": {},
   "source": [
    "문제 : weight 리스트가 주어졌을 때 표현할 수 없는 가장 작은 수를 구하여라.\n",
    "## idea \n",
    "- $\\sum _{i=1} ^k m[i] \\geq m[i+1]$ \n",
    "- 위의 식에서, 좌변의 숫자 합만큼 연속된 숫자를 만들 수 있음.\n",
    "- 이 합보다 작은 우변의 수를 합하면 그만큼 연속된 숫자를 만들 수 있게 됨."
   ]
  },
  {
   "cell_type": "code",
   "execution_count": 37,
   "metadata": {},
   "outputs": [],
   "source": [
    "def solution(weight):\n",
    "    answer = 1\n",
    "    weight = sorted(weight, key=lambda x:x)\n",
    "    #print(weight)\n",
    "    for w in weight:\n",
    "        print(answer, w)\n",
    "        if answer >= w:\n",
    "            answer += w\n",
    "\n",
    "    return answer"
   ]
  },
  {
   "cell_type": "code",
   "execution_count": 38,
   "metadata": {},
   "outputs": [
    {
     "name": "stdout",
     "output_type": "stream",
     "text": [
      "[1, 1, 2, 3, 6, 7, 30]\n",
      "1 1\n",
      "2 1\n",
      "3 2\n",
      "5 3\n",
      "8 6\n",
      "14 7\n",
      "21 30\n"
     ]
    },
    {
     "data": {
      "text/plain": [
       "21"
      ]
     },
     "execution_count": 38,
     "metadata": {},
     "output_type": "execute_result"
    }
   ],
   "source": [
    "solution([3, 1, 6, 2, 7, 30, 1])"
   ]
  }
 ],
 "metadata": {
  "kernelspec": {
   "display_name": "Python 3",
   "language": "python",
   "name": "python3"
  },
  "language_info": {
   "codemirror_mode": {
    "name": "ipython",
    "version": 3
   },
   "file_extension": ".py",
   "mimetype": "text/x-python",
   "name": "python",
   "nbconvert_exporter": "python",
   "pygments_lexer": "ipython3",
   "version": "3.7.3"
  }
 },
 "nbformat": 4,
 "nbformat_minor": 2
}
