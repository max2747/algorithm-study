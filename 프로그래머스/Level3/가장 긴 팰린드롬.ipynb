{
 "cells": [
  {
   "cell_type": "code",
   "execution_count": 1,
   "metadata": {},
   "outputs": [],
   "source": [
    "t1 = \"abcdcba\" #7\n",
    "t2 = \"abacde\" #3"
   ]
  },
  {
   "cell_type": "code",
   "execution_count": 18,
   "metadata": {},
   "outputs": [],
   "source": [
    "def solution(s):\n",
    "    def max_pal_len(mid_idx, s, cond):\n",
    "        max_len = 1\n",
    "        mid_left = mid_idx - 1\n",
    "        mid_right = mid_idx + 1\n",
    "        if cond == 1:\n",
    "            mid_right += 1\n",
    "            max_len += 1\n",
    "            \n",
    "        while mid_left >= 0 and mid_right <= len(s)-1:\n",
    "            if s[mid_left] == s[mid_right]:\n",
    "                max_len += 2\n",
    "                mid_left -= 1\n",
    "                mid_right += 1\n",
    "            else:\n",
    "                return max_len\n",
    "        return max_len\n",
    "                \n",
    "    \n",
    "    if len(s) <= 1 : return 1\n",
    "    answer = 1\n",
    "    for i in range(0, len(s)-1, 1):\n",
    "        # test case = 'bbbbb'\n",
    "        # 처음에 if else 문으로 s[i] == s[i+1]인 경우, 그 외의 경우를 나누었지만 연속된 문자열과 가운데 문자가 같을 경우 return값이 달라짐.\n",
    "        # 주석대로 했을 때 test case를 넣으면 4를 return함.\n",
    "        answer = max(answer, max_pal_len(i, s, 0))\n",
    "        if s[i] == s[i+1]:\n",
    "            answer = max(answer, max_pal_len(i, s, 1))\n",
    "\n",
    "    return answer"
   ]
  },
  {
   "cell_type": "code",
   "execution_count": 17,
   "metadata": {},
   "outputs": [
    {
     "data": {
      "text/plain": [
       "7"
      ]
     },
     "execution_count": 17,
     "metadata": {},
     "output_type": "execute_result"
    }
   ],
   "source": [
    "solution(t1)"
   ]
  },
  {
   "cell_type": "code",
   "execution_count": 12,
   "metadata": {},
   "outputs": [
    {
     "data": {
      "text/plain": [
       "3"
      ]
     },
     "execution_count": 12,
     "metadata": {},
     "output_type": "execute_result"
    }
   ],
   "source": [
    "solution(t2)"
   ]
  },
  {
   "cell_type": "code",
   "execution_count": 49,
   "metadata": {},
   "outputs": [
    {
     "data": {
      "text/plain": [
       "5"
      ]
     },
     "execution_count": 49,
     "metadata": {},
     "output_type": "execute_result"
    }
   ],
   "source": [
    "solution('bbbbb')"
   ]
  },
  {
   "cell_type": "code",
   "execution_count": null,
   "metadata": {},
   "outputs": [],
   "source": []
  }
 ],
 "metadata": {
  "kernelspec": {
   "display_name": "Python 3",
   "language": "python",
   "name": "python3"
  },
  "language_info": {
   "codemirror_mode": {
    "name": "ipython",
    "version": 3
   },
   "file_extension": ".py",
   "mimetype": "text/x-python",
   "name": "python",
   "nbconvert_exporter": "python",
   "pygments_lexer": "ipython3",
   "version": "3.7.3"
  }
 },
 "nbformat": 4,
 "nbformat_minor": 2
}
