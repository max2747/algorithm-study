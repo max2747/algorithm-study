{
 "cells": [
  {
   "cell_type": "code",
   "execution_count": 23,
   "metadata": {},
   "outputs": [],
   "source": [
    "def solution(operations):\n",
    "    answer = []\n",
    "    num = []\n",
    "    for op in operations:\n",
    "        if 'I' in op:\n",
    "            num.append(int(op.split('I')[1]))\n",
    "        else:\n",
    "            temp = int(op.split('D')[1])\n",
    "            if temp == 1: # 최댓값 삭제\n",
    "                if len(num) == 0: continue\n",
    "                else :num.pop(num.index(max(num)))\n",
    "            else: # 최솟값 삭제\n",
    "                if len(num) == 0: continue\n",
    "                else:\n",
    "                    num.pop(num.index(min(num)))\n",
    "    \n",
    "    \n",
    "    answer = [max(num), min(num)] if len(num) != 0 else [0, 0]\n",
    "    return answer"
   ]
  },
  {
   "cell_type": "code",
   "execution_count": 24,
   "metadata": {},
   "outputs": [
    {
     "data": {
      "text/plain": [
       "[0, 0]"
      ]
     },
     "execution_count": 24,
     "metadata": {},
     "output_type": "execute_result"
    }
   ],
   "source": [
    "solution([\"I 16\", \"I -5643\", \"D -1\", \"D 1\", \"D 1\", \"I 123\", \"D -1\"])"
   ]
  },
  {
   "cell_type": "code",
   "execution_count": 25,
   "metadata": {},
   "outputs": [
    {
     "data": {
      "text/plain": [
       "[333, -45]"
      ]
     },
     "execution_count": 25,
     "metadata": {},
     "output_type": "execute_result"
    }
   ],
   "source": [
    "solution([\"I -45\", \"I 653\", \"D 1\", \"I -642\", \"I 45\", \"I 97\", \"D 1\", \"D -1\", \"I 333\"])"
   ]
  }
 ],
 "metadata": {
  "kernelspec": {
   "display_name": "Python 3",
   "language": "python",
   "name": "python3"
  },
  "language_info": {
   "codemirror_mode": {
    "name": "ipython",
    "version": 3
   },
   "file_extension": ".py",
   "mimetype": "text/x-python",
   "name": "python",
   "nbconvert_exporter": "python",
   "pygments_lexer": "ipython3",
   "version": "3.7.3"
  }
 },
 "nbformat": 4,
 "nbformat_minor": 2
}
