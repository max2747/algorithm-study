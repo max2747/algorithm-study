{
 "cells": [
  {
   "cell_type": "code",
   "execution_count": 5,
   "metadata": {},
   "outputs": [],
   "source": [
    "def solution(N):\n",
    "    answer = 0\n",
    "    if N == 1: return 4\n",
    "    if N == 2 : return 6\n",
    "    tmp1 = 1\n",
    "    tmp2 = 1\n",
    "    tmp3 = tmp1 + tmp2\n",
    "    for i in range(3, N+2):\n",
    "        tmp3 = tmp1 + tmp2\n",
    "        tmp1 = tmp2\n",
    "        tmp2 = tmp3\n",
    "    answer = (tmp3 + tmp1) * 2\n",
    "    return answer"
   ]
  },
  {
   "cell_type": "code",
   "execution_count": 6,
   "metadata": {},
   "outputs": [
    {
     "name": "stdout",
     "output_type": "stream",
     "text": [
      "26\n",
      "42\n"
     ]
    }
   ],
   "source": [
    "for i in [5, 6]:\n",
    "    print(solution(i))"
   ]
  },
  {
   "cell_type": "code",
   "execution_count": null,
   "metadata": {},
   "outputs": [],
   "source": []
  }
 ],
 "metadata": {
  "kernelspec": {
   "display_name": "Python 3",
   "language": "python",
   "name": "python3"
  },
  "language_info": {
   "codemirror_mode": {
    "name": "ipython",
    "version": 3
   },
   "file_extension": ".py",
   "mimetype": "text/x-python",
   "name": "python",
   "nbconvert_exporter": "python",
   "pygments_lexer": "ipython3",
   "version": "3.7.3"
  }
 },
 "nbformat": 4,
 "nbformat_minor": 2
}
