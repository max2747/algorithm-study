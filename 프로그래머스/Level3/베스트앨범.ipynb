{
 "cells": [
  {
   "cell_type": "code",
   "execution_count": 80,
   "metadata": {},
   "outputs": [],
   "source": [
    "def solution(genres, plays):\n",
    "    answer = []\n",
    "    g_dict = {}\n",
    "    g_idx_dict = {}\n",
    "    for idx, g in enumerate(genres):\n",
    "        g_dict[g] = g_dict.get(g, []) + [plays[idx]]\n",
    "        g_idx_dict[g] = g_idx_dict.get(g, []) + [idx]\n",
    "\n",
    "    sort_g_dict = sorted(g_dict.items(), key=lambda x:sum(x[1]), reverse=True)\n",
    "\n",
    "    \n",
    "    for g, clist in sort_g_dict:\n",
    "        if len(clist) == 1:\n",
    "            answer.append(g_idx_dict[g][0])\n",
    "        else:\n",
    "            for i in range(2):\n",
    "                pop_idx = g_dict[g].index(max(g_dict[g]))\n",
    "                g_dict[g].pop(pop_idx)\n",
    "                answer.append(g_idx_dict[g].pop(pop_idx))\n",
    "    return answer"
   ]
  },
  {
   "cell_type": "code",
   "execution_count": 81,
   "metadata": {},
   "outputs": [
    {
     "data": {
      "text/plain": [
       "[4, 1, 3, 0]"
      ]
     },
     "execution_count": 81,
     "metadata": {},
     "output_type": "execute_result"
    }
   ],
   "source": [
    "solution(genres=[\"classic\", \"pop\", \"classic\", \"classic\", \"pop\"], plays=[500, 600, 150, 800, 2500])"
   ]
  }
 ],
 "metadata": {
  "kernelspec": {
   "display_name": "Python 3",
   "language": "python",
   "name": "python3"
  },
  "language_info": {
   "codemirror_mode": {
    "name": "ipython",
    "version": 3
   },
   "file_extension": ".py",
   "mimetype": "text/x-python",
   "name": "python",
   "nbconvert_exporter": "python",
   "pygments_lexer": "ipython3",
   "version": "3.7.3"
  }
 },
 "nbformat": 4,
 "nbformat_minor": 2
}
