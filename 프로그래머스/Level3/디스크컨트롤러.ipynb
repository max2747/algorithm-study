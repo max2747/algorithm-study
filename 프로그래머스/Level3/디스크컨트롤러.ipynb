{
 "cells": [
  {
   "cell_type": "code",
   "execution_count": 1,
   "metadata": {
    "scrolled": true
   },
   "outputs": [],
   "source": [
    "def solution(jobs):\n",
    "    answer = 0 # 요청시간 ~ 종료시간까지의 값을 계속 더해나갈 변수. 마지막에 job 개수 n으로 나눠줄 예정.\n",
    "    n = 0 # job 개수\n",
    "    nowtime = 0 # 현재 시간\n",
    "    \n",
    "    # request 시간이 작은 값일수록, 실행 시간이 작을수록 앞쪽에 위치. 오름차순 정렬\n",
    "    jobs = sorted(jobs, key=lambda x : [x[0], x[1]]) \n",
    "    \n",
    "    while jobs:\n",
    "        heap = []\n",
    "        # 가장 앞쪽에 위치한 job이 우선순위가 가장 높음.\n",
    "        req, proc = jobs.pop(0) \n",
    "        \n",
    "        # n==0일 때는 최초의 job임 -> 실행 시간만 더해주면 됨. 언제 request 받았는지 상관 없음.\n",
    "        # 이외에는 job이 기다린 시간 + 실행 시간을 더해주면 됨.\n",
    "        answer += proc if n == 0 else (nowtime - req + proc)\n",
    "        \n",
    "        # 현재 시간은 n=0일 때 요청 시간 + 실행 시간으로 계산해줌.\n",
    "        # 그 외에는 실행 시간을 더해주면 됨.\n",
    "        nowtime += (req + proc) if n == 0 else proc\n",
    "        \n",
    "        # job 개수 1 더해줌.\n",
    "        n += 1\n",
    "        \n",
    "        # job이 실행 중일 때, 다른 job의 요청이 있을 경우 heap 리스트에 더해줌\n",
    "        while jobs and jobs[0][0] < nowtime:\n",
    "            r, q = jobs.pop(0)\n",
    "            heap.append([r, q])\n",
    "        \n",
    "        # 실행 시간이 긴 순으로, 내림차순으로 sort함. \n",
    "        # 앞의 원소부터 다시 job에 할당할것이기 때문에 maxheap 사용.\n",
    "        heap = sorted(heap, key=lambda x:x[1], reverse=True)\n",
    "        \n",
    "        # 여기서 heap 순서대로 jobs의 0번 index를 넣어줌.\n",
    "        # heap = [el1, el2, el3, el4] 원소가 이렇게 있다면 \n",
    "        # jobs = [el4, el3, el2, el1]로 들어가게 됨. 실행시간이 가장 짧은 job이 리스트의 앞쪽으로 들어가게 됨.\n",
    "        while heap:\n",
    "            r, q = heap.pop(0)\n",
    "            jobs.insert(0, [r, q])\n",
    "\n",
    "    answer //= n\n",
    "    return answer"
   ]
  },
  {
   "cell_type": "code",
   "execution_count": 2,
   "metadata": {},
   "outputs": [
    {
     "data": {
      "text/plain": [
       "4"
      ]
     },
     "execution_count": 2,
     "metadata": {},
     "output_type": "execute_result"
    }
   ],
   "source": [
    "solution([[0,3],[0,1],[4,7]])"
   ]
  },
  {
   "cell_type": "code",
   "execution_count": 3,
   "metadata": {},
   "outputs": [
    {
     "data": {
      "text/plain": [
       "13"
      ]
     },
     "execution_count": 3,
     "metadata": {},
     "output_type": "execute_result"
    }
   ],
   "source": [
    "solution([[0, 9], [0, 4], [0, 5], [0, 7], [0, 3]])"
   ]
  },
  {
   "cell_type": "code",
   "execution_count": 4,
   "metadata": {},
   "outputs": [
    {
     "data": {
      "text/plain": [
       "9"
      ]
     },
     "execution_count": 4,
     "metadata": {},
     "output_type": "execute_result"
    }
   ],
   "source": [
    "solution([[0, 3], [1, 9], [2, 6]])"
   ]
  }
 ],
 "metadata": {
  "kernelspec": {
   "display_name": "Python 3",
   "language": "python",
   "name": "python3"
  },
  "language_info": {
   "codemirror_mode": {
    "name": "ipython",
    "version": 3
   },
   "file_extension": ".py",
   "mimetype": "text/x-python",
   "name": "python",
   "nbconvert_exporter": "python",
   "pygments_lexer": "ipython3",
   "version": "3.7.3"
  }
 },
 "nbformat": 4,
 "nbformat_minor": 2
}
