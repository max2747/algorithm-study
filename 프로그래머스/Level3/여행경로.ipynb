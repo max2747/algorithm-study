{
 "cells": [
  {
   "cell_type": "markdown",
   "metadata": {},
   "source": [
    "- tickets 배열을 받으면 key를 출발 지점으로, value를 도착지점으로 하는 리스트로 dictionary 자료구조를 사용\n",
    "- 알파벳 순서대로 stack에 추가시켜줄 것이기 때문에 value를 알파벳 내림차순으로 sort함\n",
    "- 일단 stack에 dictionary의 도착 리스트의 뒷부분(알파벳 순서는 앞)를 append함. 동시에 도착 리스트에서 제외.\n",
    "- 종료 지점은 ticket_dict[top]의 리스트에 원소가 남아있지 않거나, 새로운 도착지라서 key값에 없을 수 있음. -> stack을 pop해서 path에 저장.\n",
    "- path의 순서를 뒤집고 return함.\n",
    "\n",
    "- 참고로 len(stack) == len(tickets) + 1일 경우 stack을 바로 return해줘도 됨.\n",
    "\n",
    "- 종료 상황을 단순히 생각해도 되는게, 문제에서 항상 경로가 있음을 가정.\n",
    "- 만약 DFS과정 중, 경로가 없을 수 있고 최고 도달지점까지 개수를 구한다고 가정하면 DFS 완전탐색을 해야 함. 혹은 BFS로 depth를 잴 수도 있음."
   ]
  },
  {
   "cell_type": "code",
   "execution_count": 191,
   "metadata": {},
   "outputs": [],
   "source": [
    "def solution(tickets):\n",
    "    ticket_dict = {}\n",
    "    n = len(tickets)\n",
    "    for start, end in tickets:\n",
    "        ticket_dict[start] = ticket_dict.get(start, []) + [end]\n",
    "    \n",
    "    for key in ticket_dict.keys():\n",
    "        ticket_dict[key] = sorted(ticket_dict[key], reverse=True)\n",
    "    print(ticket_dict)\n",
    "    path = []\n",
    "    stack = ['ICN']\n",
    "    while stack:\n",
    "        print(stack)\n",
    "        #print(\"path : \", path)\n",
    "        top = stack[-1]\n",
    "#         if len(stack) == n+1:\n",
    "#             return stack\n",
    "        if top not in ticket_dict or len(ticket_dict[top]) == 0:\n",
    "            path.append(stack.pop())\n",
    "        else:\n",
    "            stack.append(ticket_dict[top].pop(-1))\n",
    "    return path[::-1]"
   ]
  },
  {
   "cell_type": "code",
   "execution_count": 192,
   "metadata": {
    "scrolled": true
   },
   "outputs": [
    {
     "name": "stdout",
     "output_type": "stream",
     "text": [
      "{'ICN': ['SFO', 'ATL', 'ATL'], 'SFO': ['ATL'], 'ATL': ['SFO', 'ICN', 'ICN']}\n",
      "['ICN']\n",
      "['ICN', 'ATL']\n",
      "['ICN', 'ATL', 'ICN']\n",
      "['ICN', 'ATL', 'ICN', 'ATL']\n",
      "['ICN', 'ATL', 'ICN', 'ATL', 'ICN']\n",
      "['ICN', 'ATL', 'ICN', 'ATL', 'ICN', 'SFO']\n",
      "['ICN', 'ATL', 'ICN', 'ATL', 'ICN', 'SFO', 'ATL']\n",
      "['ICN', 'ATL', 'ICN', 'ATL', 'ICN', 'SFO', 'ATL', 'SFO']\n"
     ]
    },
    {
     "data": {
      "text/plain": [
       "['ICN', 'ATL', 'ICN', 'ATL', 'ICN', 'SFO', 'ATL', 'SFO']"
      ]
     },
     "execution_count": 192,
     "metadata": {},
     "output_type": "execute_result"
    }
   ],
   "source": [
    "solution([[\"ICN\", \"SFO\"], [\"ICN\", \"ATL\"], [\"ICN\", \"ATL\"], [\"SFO\", \"ATL\"], [\"ATL\", \"ICN\"],[\"ATL\", \"ICN\"],  [\"ATL\", \"SFO\"]])"
   ]
  },
  {
   "cell_type": "code",
   "execution_count": 190,
   "metadata": {},
   "outputs": [
    {
     "name": "stdout",
     "output_type": "stream",
     "text": [
      "{'ICN': ['JFK'], 'HND': ['IAD'], 'JFK': ['HND']}\n",
      "['ICN']\n",
      "['ICN', 'JFK']\n",
      "['ICN', 'JFK', 'HND']\n",
      "['ICN', 'JFK', 'HND', 'IAD']\n",
      "['ICN', 'JFK', 'HND']\n",
      "['ICN', 'JFK']\n",
      "['ICN']\n"
     ]
    },
    {
     "data": {
      "text/plain": [
       "['ICN', 'JFK', 'HND', 'IAD']"
      ]
     },
     "execution_count": 190,
     "metadata": {},
     "output_type": "execute_result"
    }
   ],
   "source": [
    "solution([[\"ICN\", \"JFK\"], [\"HND\", \"IAD\"], [\"JFK\", \"HND\"]])"
   ]
  }
 ],
 "metadata": {
  "kernelspec": {
   "display_name": "Python 3",
   "language": "python",
   "name": "python3"
  },
  "language_info": {
   "codemirror_mode": {
    "name": "ipython",
    "version": 3
   },
   "file_extension": ".py",
   "mimetype": "text/x-python",
   "name": "python",
   "nbconvert_exporter": "python",
   "pygments_lexer": "ipython3",
   "version": "3.7.3"
  }
 },
 "nbformat": 4,
 "nbformat_minor": 2
}
