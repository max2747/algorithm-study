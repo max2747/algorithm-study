{
 "cells": [
  {
   "cell_type": "code",
   "execution_count": 1,
   "metadata": {},
   "outputs": [],
   "source": [
    "def check_usage(check_time, lst):\n",
    "    num = 0\n",
    "    start = check_time\n",
    "    end = check_time + 1000\n",
    "    for i in lst:\n",
    "        if not (i[1] < start or  i[0] >= end): # 끝나는게 start 앞에 있거나, 시작이 end보다 뒤에 있지 않으면\n",
    "            num += 1\n",
    "    return num\n",
    "\n",
    "\n",
    "def solution(lines):\n",
    "    start_end_tuple = []\n",
    "    for i in lines:\n",
    "        tmp = i.split(' ')[1:]\n",
    "        complete_time = tmp[0]\n",
    "        process_time = int(float(tmp[1][:-1]) * 1000)\n",
    "        # time parsing\n",
    "        hour = int(complete_time.split(':')[0])\n",
    "        minute = int(complete_time.split(':')[1])\n",
    "        second =  int(complete_time.split(':')[2].split('.')[0])\n",
    "        milisec = int(complete_time.split(':')[2].split('.')[1])\n",
    "        end_milisec = hour * 3600 * 1000 + minute * 60 * 1000 + second * 1000 + milisec\n",
    "        start_milisec = end_milisec - process_time + 1\n",
    "        start_end_tuple.append((start_milisec, end_milisec))\n",
    "    \n",
    "    #print(start_end_tuple)\n",
    "    answer = 1\n",
    "    sorted_list = [i for i in sorted(start_end_tuple, key = lambda item:item[0])]\n",
    "    #print(sorted_list)\n",
    "    if len(sorted_list) == 1 : return 1\n",
    "    for idx, case in enumerate(sorted_list):\n",
    "        start_time = case[0]\n",
    "        end_time = case[1]\n",
    "        start_count = check_usage(start_time, sorted_list)\n",
    "        end_count = check_usage(end_time, sorted_list)\n",
    "        answer = max(start_count, end_count, answer)\n",
    "        \n",
    "        \n",
    "\n",
    "    \n",
    "    return answer"
   ]
  },
  {
   "cell_type": "code",
   "execution_count": 2,
   "metadata": {},
   "outputs": [],
   "source": [
    "test_case = [[\"2016-09-15 00:00:00.000 3s\"], \n",
    "             [\"2016-09-15 23:59:59.999 0.001s\"], \n",
    "             [\"2016-09-15 01:00:04.001 2.0s\", \"2016-09-15 01:00:07.000 2s\"], \n",
    "            [\"2016-09-15 01:00:04.002 2.0s\", \"2016-09-15 01:00:07.000 2s\"],\n",
    "             [\"2016-09-15 20:59:57.421 0.351s\", \"2016-09-15 20:59:58.233 1.181s\", \"2016-09-15 20:59:58.299 0.8s\", \"2016-09-15 20:59:58.688 1.041s\", \"2016-09-15 20:59:59.591 1.412s\", \"2016-09-15 21:00:00.464 1.466s\", \"2016-09-15 21:00:00.741 1.581s\", \"2016-09-15 21:00:00.748 2.31s\", \"2016-09-15 21:00:00.966 0.381s\", \"2016-09-15 21:00:02.066 2.62s\"],\n",
    "            [\"2016-09-15 00:00:00.000 2.3s\", \"2016-09-15 23:59:59.999 0.1s\"]]"
   ]
  },
  {
   "cell_type": "code",
   "execution_count": 3,
   "metadata": {},
   "outputs": [
    {
     "data": {
      "text/plain": [
       "2"
      ]
     },
     "execution_count": 3,
     "metadata": {},
     "output_type": "execute_result"
    }
   ],
   "source": [
    "solution(test_case[3])"
   ]
  },
  {
   "cell_type": "code",
   "execution_count": 4,
   "metadata": {},
   "outputs": [
    {
     "name": "stdout",
     "output_type": "stream",
     "text": [
      "1\n",
      "1\n",
      "1\n",
      "2\n",
      "7\n",
      "1\n"
     ]
    }
   ],
   "source": [
    "for i in test_case:\n",
    "    print(solution(i))"
   ]
  }
 ],
 "metadata": {
  "kernelspec": {
   "display_name": "Python 3",
   "language": "python",
   "name": "python3"
  },
  "language_info": {
   "codemirror_mode": {
    "name": "ipython",
    "version": 3
   },
   "file_extension": ".py",
   "mimetype": "text/x-python",
   "name": "python",
   "nbconvert_exporter": "python",
   "pygments_lexer": "ipython3",
   "version": "3.7.3"
  }
 },
 "nbformat": 4,
 "nbformat_minor": 2
}
