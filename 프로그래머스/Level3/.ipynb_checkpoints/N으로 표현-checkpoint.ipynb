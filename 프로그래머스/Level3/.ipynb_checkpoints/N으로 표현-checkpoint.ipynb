{
 "cells": [
  {
   "cell_type": "code",
   "execution_count": 53,
   "metadata": {},
   "outputs": [],
   "source": [
    "def solution(N, number):\n",
    "    S = [0, {N}]\n",
    "    for i in range(2, 9):\n",
    "        case_set = {int(str(N)*i)}\n",
    "        for i_half in range(1, i//2+1):  # S[i_half] S[1]\n",
    "            for x in S[i_half]:\n",
    "                for y in S[i-i_half]:\n",
    "                    case_set.add(x+y)\n",
    "                    case_set.add(x-y)\n",
    "                    case_set.add(y-x) # y-x 케이스 추가\n",
    "                    case_set.add(x*y)\n",
    "                    if x != 0:\n",
    "                        case_set.add(y//x)\n",
    "                    if y != 0:\n",
    "                        case_set.add(x//y)\n",
    "        if number in case_set:\n",
    "            return i\n",
    "        S.append(case_set)\n",
    "    return -1\n",
    "\n"
   ]
  },
  {
   "cell_type": "code",
   "execution_count": 54,
   "metadata": {},
   "outputs": [
    {
     "data": {
      "text/plain": [
       "4"
      ]
     },
     "execution_count": 54,
     "metadata": {},
     "output_type": "execute_result"
    }
   ],
   "source": [
    "solution(5, 12)"
   ]
  }
 ],
 "metadata": {
  "kernelspec": {
   "display_name": "Python 3",
   "language": "python",
   "name": "python3"
  },
  "language_info": {
   "codemirror_mode": {
    "name": "ipython",
    "version": 3
   },
   "file_extension": ".py",
   "mimetype": "text/x-python",
   "name": "python",
   "nbconvert_exporter": "python",
   "pygments_lexer": "ipython3",
   "version": "3.7.3"
  }
 },
 "nbformat": 4,
 "nbformat_minor": 2
}
