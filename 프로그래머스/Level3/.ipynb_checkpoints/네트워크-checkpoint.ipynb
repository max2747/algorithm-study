{
 "cells": [
  {
   "cell_type": "code",
   "execution_count": 24,
   "metadata": {},
   "outputs": [],
   "source": [
    "def search(node, visited, n, computers):\n",
    "    for i in range(n):\n",
    "        if visited[i] == True: continue\n",
    "        if computers[node][i] == 1:\n",
    "            visited[i] = True\n",
    "            search(i, visited, n, computers)\n",
    "\n",
    "\n",
    "def solution(n, computers):\n",
    "    # visited 방문한 노드 선택\n",
    "    visited = [False] * n\n",
    "    # dictionary { node : [connected node] }\n",
    "    #answer_dict = {}\n",
    "    answer = 0\n",
    "    for i in range(n):\n",
    "        print(visited)\n",
    "        if visited[i] == True: continue\n",
    "        else:\n",
    "            answer += 1\n",
    "            visited[i] = True\n",
    "            search(i, visited, n, computers)\n",
    "                    \n",
    "        #assert(False)\n",
    "    # answer = dictionary key 개수\n",
    "    return answer"
   ]
  },
  {
   "cell_type": "code",
   "execution_count": 26,
   "metadata": {},
   "outputs": [
    {
     "name": "stdout",
     "output_type": "stream",
     "text": [
      "[False, False, False]\n",
      "search\n",
      "0\n",
      "search\n",
      "1\n",
      "search\n",
      "2\n",
      "[True, True, True]\n",
      "[True, True, True]\n"
     ]
    },
    {
     "data": {
      "text/plain": [
       "1"
      ]
     },
     "execution_count": 26,
     "metadata": {},
     "output_type": "execute_result"
    }
   ],
   "source": [
    "solution(3, [[1, 1, 0], [1, 1, 1], [0, 0, 1]])"
   ]
  },
  {
   "cell_type": "code",
   "execution_count": null,
   "metadata": {},
   "outputs": [],
   "source": []
  }
 ],
 "metadata": {
  "kernelspec": {
   "display_name": "Python 3",
   "language": "python",
   "name": "python3"
  },
  "language_info": {
   "codemirror_mode": {
    "name": "ipython",
    "version": 3
   },
   "file_extension": ".py",
   "mimetype": "text/x-python",
   "name": "python",
   "nbconvert_exporter": "python",
   "pygments_lexer": "ipython3",
   "version": "3.7.3"
  }
 },
 "nbformat": 4,
 "nbformat_minor": 2
}
