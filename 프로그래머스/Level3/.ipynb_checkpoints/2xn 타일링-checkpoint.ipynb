{
 "cells": [
  {
   "cell_type": "code",
   "execution_count": 31,
   "metadata": {},
   "outputs": [],
   "source": [
    "def solution(n):\n",
    "    tmp1 = 1\n",
    "    tmp2 = 2\n",
    "    tmp3 = 0\n",
    "    for i in range(3, n+1):\n",
    "        tmp3 = (tmp2 + tmp1) % 1000000007\n",
    "        tmp1 = tmp2\n",
    "        tmp2 = tmp3\n",
    "    return tmp3"
   ]
  }
 ],
 "metadata": {
  "kernelspec": {
   "display_name": "Python 3",
   "language": "python",
   "name": "python3"
  },
  "language_info": {
   "codemirror_mode": {
    "name": "ipython",
    "version": 3
   },
   "file_extension": ".py",
   "mimetype": "text/x-python",
   "name": "python",
   "nbconvert_exporter": "python",
   "pygments_lexer": "ipython3",
   "version": "3.7.3"
  }
 },
 "nbformat": 4,
 "nbformat_minor": 2
}
