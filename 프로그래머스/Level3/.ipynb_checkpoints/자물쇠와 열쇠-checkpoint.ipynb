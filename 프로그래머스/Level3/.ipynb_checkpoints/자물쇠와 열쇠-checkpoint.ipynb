{
 "cells": [
  {
   "cell_type": "code",
   "execution_count": 81,
   "metadata": {},
   "outputs": [],
   "source": [
    "def get_rotate_keys(key):\n",
    "    n = len(key)\n",
    "    results = []\n",
    "    results.append(key)\n",
    "    for k in range(1, 4):\n",
    "        tmp = [[results[k-1][n-1-i][j] for i in range(n)] for j in range(n) ]\n",
    "        results.append(tmp)\n",
    "    return results\n",
    "\n",
    "\n",
    "def solution(key, lock):\n",
    "    import copy\n",
    "    n = len(key)\n",
    "    m = len(lock)\n",
    "    rotate_keys = get_rotate_keys(key)\n",
    "    \n",
    "    board_init = [[0 for i in range(2*n + m -2)] for j in range(2*n + m -2)]\n",
    "    #board_lock = board_init.copy()\n",
    "    board_lock = copy.deepcopy(board_init)\n",
    "\n",
    "        \n",
    "    for i in range(2*n + m -2):\n",
    "        for j in range(2*n + m -2):\n",
    "            if ((i >= n-1) and (i <= n + m -2)) and ((j >= n-1) and (j <= n + m -2)):\n",
    "                board_lock[i][j] = lock[i - (n-1)][j - (n-1)]\n",
    "        \n",
    "#     for i in range(len(board_init)):\n",
    "#         print(board_init[i])\n",
    "\n",
    "    for kkey in rotate_keys:\n",
    "        for i in range(n + m -1):\n",
    "            for j in range(n + m -1):\n",
    "                #one_key = board_init.copy()\n",
    "                one_key = copy.deepcopy(board_init)\n",
    "                for k in range(n):\n",
    "                    for l in range(n):\n",
    "                        one_key[i+k][j + l] = kkey[k][l]\n",
    "#                 for g in range(len(kkey)):\n",
    "#                     print(kkey[g])\n",
    "#                 print(\"fdsfdsfsafdsa\")\n",
    "\n",
    "#                 for g in range(len(one_key)):\n",
    "#                     print(one_key[g])\n",
    "#                 assert(False)\n",
    "                count = 0\n",
    "                for k in range(n-1, m + n -1):\n",
    "                    for l in range(n-1, m + n -1):\n",
    "                        if board_lock[k][l] + one_key[k][l] != 1:\n",
    "                            break\n",
    "                        else: count += 1\n",
    "#                 print(count)\n",
    "                if count == (m * m): return True\n",
    "    return False"
   ]
  },
  {
   "cell_type": "code",
   "execution_count": 82,
   "metadata": {},
   "outputs": [
    {
     "data": {
      "text/plain": [
       "True"
      ]
     },
     "execution_count": 82,
     "metadata": {},
     "output_type": "execute_result"
    }
   ],
   "source": [
    "solution([[0, 0, 0], [1, 0, 0], [0, 1, 1]]\t, [[1, 1, 1], [1, 1, 0], [1, 0, 1]])"
   ]
  }
 ],
 "metadata": {
  "kernelspec": {
   "display_name": "Python 3",
   "language": "python",
   "name": "python3"
  },
  "language_info": {
   "codemirror_mode": {
    "name": "ipython",
    "version": 3
   },
   "file_extension": ".py",
   "mimetype": "text/x-python",
   "name": "python",
   "nbconvert_exporter": "python",
   "pygments_lexer": "ipython3",
   "version": "3.7.3"
  }
 },
 "nbformat": 4,
 "nbformat_minor": 2
}
