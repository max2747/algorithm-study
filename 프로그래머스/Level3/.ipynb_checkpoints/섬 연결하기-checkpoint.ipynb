{
 "cells": [
  {
   "cell_type": "code",
   "execution_count": 27,
   "metadata": {},
   "outputs": [],
   "source": [
    "class DisjointSet:\n",
    "    def __init__(self, n):\n",
    "        self.data = list(range(n))\n",
    "        self.size = n\n",
    "        self.cost = 0\n",
    "    \n",
    "    def find(self, index):\n",
    "        return self.data[index]\n",
    "    \n",
    "    def union(self, x, y, cost):\n",
    "        x, y = self.find(x), self.find(y)\n",
    "        \n",
    "        if x == y : return\n",
    "        \n",
    "        for i in range(self.size):\n",
    "            if self.find(i) == y:\n",
    "                self.data[i] = x\n",
    "        self.cost += cost\n",
    "\n",
    "\n",
    "def solution(n, costs):\n",
    "    sorted_cost = [i for i in sorted(costs, key = lambda item : item[2])]\n",
    "    disjoint = DisjointSet(n)\n",
    "    answer = 0\n",
    "    \n",
    "    for i in sorted_cost:\n",
    "        start = i[0]\n",
    "        end = i[1]\n",
    "        cost = i[2]\n",
    "        \n",
    "        disjoint.union(start, end, cost)\n",
    "        \n",
    "    \n",
    "    return disjoint.cost"
   ]
  },
  {
   "cell_type": "code",
   "execution_count": 28,
   "metadata": {},
   "outputs": [
    {
     "data": {
      "text/plain": [
       "4"
      ]
     },
     "execution_count": 28,
     "metadata": {},
     "output_type": "execute_result"
    }
   ],
   "source": [
    "solution(4, [[0, 1, 1], [0, 2, 2], [1, 2, 5], [1, 3, 1], [2, 3, 8]])"
   ]
  }
 ],
 "metadata": {
  "kernelspec": {
   "display_name": "Python 3",
   "language": "python",
   "name": "python3"
  },
  "language_info": {
   "codemirror_mode": {
    "name": "ipython",
    "version": 3
   },
   "file_extension": ".py",
   "mimetype": "text/x-python",
   "name": "python",
   "nbconvert_exporter": "python",
   "pygments_lexer": "ipython3",
   "version": "3.7.3"
  }
 },
 "nbformat": 4,
 "nbformat_minor": 2
}
