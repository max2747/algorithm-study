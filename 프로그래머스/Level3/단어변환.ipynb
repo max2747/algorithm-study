{
 "cells": [
  {
   "cell_type": "code",
   "execution_count": 17,
   "metadata": {},
   "outputs": [],
   "source": [
    "def find_word(word, word_list, visited):\n",
    "    results = []\n",
    "    for w in word_list:\n",
    "        if w in visited: continue\n",
    "        count = 0\n",
    "        for i in range(len(word)):\n",
    "            if w[i] == word[i]:\n",
    "                count += 1\n",
    "        if count == len(word)-1:\n",
    "            results.append(w)\n",
    "    return results\n",
    "\n",
    "def solution(begin, target, words):\n",
    "    answer = 0\n",
    "    visited = []\n",
    "    \n",
    "    check_words = [begin]\n",
    "    while True:\n",
    "        tmp = []\n",
    "        answer += 1\n",
    "        for w in check_words:\n",
    "            similar_words = find_word(w, words, visited)\n",
    "            if similar_words == []: return 0\n",
    "            for w in similar_words:\n",
    "                visited.append(w)\n",
    "                if w == target: return answer\n",
    "                else:\n",
    "                    tmp.append(w)\n",
    "        check_words = tmp\n",
    "    return answer"
   ]
  },
  {
   "cell_type": "code",
   "execution_count": 19,
   "metadata": {},
   "outputs": [
    {
     "data": {
      "text/plain": [
       "0"
      ]
     },
     "execution_count": 19,
     "metadata": {},
     "output_type": "execute_result"
    }
   ],
   "source": [
    "solution(\"hit\", \"cog\", [\"hot\", \"dot\", \"dog\", \"lot\", \"log\", \"cog\"])"
   ]
  },
  {
   "cell_type": "code",
   "execution_count": null,
   "metadata": {},
   "outputs": [],
   "source": []
  }
 ],
 "metadata": {
  "kernelspec": {
   "display_name": "Python 3",
   "language": "python",
   "name": "python3"
  },
  "language_info": {
   "codemirror_mode": {
    "name": "ipython",
    "version": 3
   },
   "file_extension": ".py",
   "mimetype": "text/x-python",
   "name": "python",
   "nbconvert_exporter": "python",
   "pygments_lexer": "ipython3",
   "version": "3.7.3"
  }
 },
 "nbformat": 4,
 "nbformat_minor": 2
}
