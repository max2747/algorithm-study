{
 "cells": [
  {
   "cell_type": "markdown",
   "metadata": {},
   "source": [
    "### Union-Find\n",
    "1. array 사용"
   ]
  },
  {
   "cell_type": "code",
   "execution_count": 50,
   "metadata": {},
   "outputs": [
    {
     "name": "stdout",
     "output_type": "stream",
     "text": [
      "[0, 0, 0, 0, 4, 4, 4, 4, 8, 8]\n",
      "10\n"
     ]
    }
   ],
   "source": [
    "class DisjointSet:\n",
    "    def __init__(self, n):\n",
    "        self.data = list(range(n))\n",
    "        self.size = n\n",
    "        self.length = len(set(self.data))\n",
    "\n",
    "    def find(self, index):\n",
    "        return self.data[index]\n",
    "\n",
    "\n",
    "    def union(self, x, y):\n",
    "        x, y = self.find(x), self.find(y)\n",
    "\n",
    "        if x == y:\n",
    "            return\n",
    "\n",
    "        for i in range(self.size):\n",
    "            if self.find(i) == y:\n",
    "                self.data[i] = x\n",
    "\n",
    "\n",
    "#     @property\n",
    "#     def length(self):\n",
    "#         return len(set(self.data))\n",
    "\n",
    "\n",
    "\n",
    "\n",
    "disjoint = DisjointSet(10)\n",
    "\n",
    "disjoint.union(0, 1)\n",
    "disjoint.union(1, 2)\n",
    "disjoint.union(2, 3)\n",
    "disjoint.union(4, 5)\n",
    "disjoint.union(5, 6)\n",
    "disjoint.union(6, 7)\n",
    "disjoint.union(8, 9)\n",
    "\n",
    "print(disjoint.data)\n",
    "print(disjoint.length)"
   ]
  },
  {
   "cell_type": "markdown",
   "metadata": {},
   "source": [
    "2. Tree 사용"
   ]
  },
  {
   "cell_type": "code",
   "execution_count": 43,
   "metadata": {},
   "outputs": [
    {
     "name": "stdout",
     "output_type": "stream",
     "text": [
      "[1, -4, 1, 1, 5, -4, 5, 5, 9, -2]\n",
      "3\n"
     ]
    }
   ],
   "source": [
    "# Union-by-size\n",
    "class DisjointSet:\n",
    "    def __init__(self, n):\n",
    "        self.data = [-1 for _ in range(n)]\n",
    "        self.size = n\n",
    "\n",
    "    def find(self, index):\n",
    "        value = self.data[index]\n",
    "        if value < 0:\n",
    "            return index\n",
    "\n",
    "        return self.find(value)\n",
    "\n",
    "    def union(self, x, y):\n",
    "        x = self.find(x)\n",
    "        y = self.find(y)\n",
    "\n",
    "        if x == y:\n",
    "            return\n",
    "\n",
    "        if self.data[x] < self.data[y]:\n",
    "            self.data[x] += self.data[y]\n",
    "            self.data[y] = x\n",
    "        else:\n",
    "            self.data[y] += self.data[x]\n",
    "            self.data[x] = y\n",
    "\n",
    "        self.size -= 1\n",
    "\n",
    "\n",
    "disjoint = DisjointSet(10)\n",
    "\n",
    "disjoint.union(0, 1)\n",
    "disjoint.union(1, 2)\n",
    "disjoint.union(2, 3)\n",
    "disjoint.union(4, 5)\n",
    "disjoint.union(5, 6)\n",
    "disjoint.union(6, 7)\n",
    "disjoint.union(8, 9)\n",
    "\n",
    "print(disjoint.data)\n",
    "print(disjoint.size)\n"
   ]
  },
  {
   "cell_type": "code",
   "execution_count": 44,
   "metadata": {},
   "outputs": [
    {
     "name": "stdout",
     "output_type": "stream",
     "text": [
      "[-2, 0, 0, 0, -2, 4, 4, 4, -2, 8]\n",
      "3\n"
     ]
    }
   ],
   "source": [
    "# Union-by-height\n",
    "\n",
    "class DisjointSet:\n",
    "    def __init__(self, n):\n",
    "        self.data = [-1] * n\n",
    "        self.size = n\n",
    "\n",
    "    def find(self, index):\n",
    "        value = self.data[index]\n",
    "        if value < 0:\n",
    "            return index\n",
    "\n",
    "        return self.find(value)\n",
    "\n",
    "    def union(self, x, y):\n",
    "        x = self.find(x)\n",
    "        y = self.find(y)\n",
    "\n",
    "        if x == y:\n",
    "            return\n",
    "\n",
    "        if self.data[x] < self.data[y]:\n",
    "            self.data[y] = x\n",
    "        elif self.data[x] > self.data[y]:\n",
    "            self.data[x] = y\n",
    "        else:\n",
    "            self.data[x] -= 1\n",
    "            self.data[y] = x\n",
    "\n",
    "        self.size -= 1\n",
    "\n",
    "\n",
    "disjoint = DisjointSet(10)\n",
    "\n",
    "disjoint.union(0, 1)\n",
    "disjoint.union(1, 2)\n",
    "disjoint.union(2, 3)\n",
    "disjoint.union(4, 5)\n",
    "disjoint.union(5, 6)\n",
    "disjoint.union(6, 7)\n",
    "disjoint.union(8, 9)\n",
    "\n",
    "print(disjoint.data)\n",
    "print(disjoint.size)\n",
    "\n"
   ]
  },
  {
   "cell_type": "code",
   "execution_count": 45,
   "metadata": {},
   "outputs": [
    {
     "name": "stdout",
     "output_type": "stream",
     "text": [
      "[-2, 0, 0, 0, -2, 4, 4, 4, -2, 8]\n",
      "3\n"
     ]
    }
   ],
   "source": [
    "#  path comprehension\n",
    "\n",
    "class DisjointSet:\n",
    "    def __init__(self, n):\n",
    "        self.data = [-1 for _ in range(n)]\n",
    "        self.size = n\n",
    "\n",
    "    def upward(self, change_list, index):\n",
    "        value = self.data[index]\n",
    "        if value < 0:\n",
    "            return index\n",
    "\n",
    "        change_list.append(index)\n",
    "        return self.upward(change_list, value)\n",
    "\n",
    "    def find(self, index):\n",
    "        change_list = []\n",
    "        result = self.upward(change_list, index)\n",
    "\n",
    "        for i in change_list:\n",
    "            self.data[i] = result\n",
    "\n",
    "        return result\n",
    "\n",
    "    def union(self, x, y):\n",
    "        x = self.find(x)\n",
    "        y = self.find(y)\n",
    "\n",
    "        if x == y:\n",
    "            return\n",
    "\n",
    "        if self.data[x] < self.data[y]:\n",
    "            self.data[y] = x\n",
    "        elif self.data[x] > self.data[y]:\n",
    "            self.data[x] = y\n",
    "        else:\n",
    "            self.data[x] -= 1\n",
    "            self.data[y] = x\n",
    "\n",
    "        self.size -= 1\n",
    "\n",
    "\n",
    "disjoint = DisjointSet(10)\n",
    "\n",
    "disjoint.union(0, 1)\n",
    "disjoint.union(1, 2)\n",
    "disjoint.union(2, 3)\n",
    "disjoint.union(4, 5)\n",
    "disjoint.union(5, 6)\n",
    "disjoint.union(6, 7)\n",
    "disjoint.union(8, 9)\n",
    "\n",
    "print(disjoint.data)\n",
    "print(disjoint.size)\n"
   ]
  },
  {
   "cell_type": "code",
   "execution_count": null,
   "metadata": {},
   "outputs": [],
   "source": []
  }
 ],
 "metadata": {
  "kernelspec": {
   "display_name": "Python 3",
   "language": "python",
   "name": "python3"
  },
  "language_info": {
   "codemirror_mode": {
    "name": "ipython",
    "version": 3
   },
   "file_extension": ".py",
   "mimetype": "text/x-python",
   "name": "python",
   "nbconvert_exporter": "python",
   "pygments_lexer": "ipython3",
   "version": "3.7.3"
  }
 },
 "nbformat": 4,
 "nbformat_minor": 2
}
