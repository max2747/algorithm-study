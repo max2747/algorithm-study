{
 "cells": [
  {
   "cell_type": "code",
   "execution_count": 3,
   "metadata": {},
   "outputs": [],
   "source": [
    "def solution(m, n, puddles):\n",
    "    answer = 0\n",
    "    matrix = [[0 for i in range(n)] for j in range(m)]\n",
    "    matrix[0][0] = 1\n",
    "\n",
    "    for i in range(m):\n",
    "        for j in range(n):\n",
    "            if [i+1, j+1] in puddles: continue\n",
    "            elif i == 0 and j == 0: continue\n",
    "            elif i == 0:\n",
    "                matrix[i][j] = matrix[i][j-1]\n",
    "            elif j == 0:\n",
    "                matrix[i][j] = matrix[i-1][j]\n",
    "            else:\n",
    "                matrix[i][j] = matrix[i-1][j] + matrix[i][j-1]\n",
    "    answer = matrix[m-1][n-1] % 1000000007\n",
    "    return answer"
   ]
  },
  {
   "cell_type": "code",
   "execution_count": 4,
   "metadata": {},
   "outputs": [
    {
     "data": {
      "text/plain": [
       "4"
      ]
     },
     "execution_count": 4,
     "metadata": {},
     "output_type": "execute_result"
    }
   ],
   "source": [
    "solution(4, 3, [[2, 2]])"
   ]
  },
  {
   "cell_type": "code",
   "execution_count": null,
   "metadata": {},
   "outputs": [],
   "source": []
  }
 ],
 "metadata": {
  "kernelspec": {
   "display_name": "Python 3",
   "language": "python",
   "name": "python3"
  },
  "language_info": {
   "codemirror_mode": {
    "name": "ipython",
    "version": 3
   },
   "file_extension": ".py",
   "mimetype": "text/x-python",
   "name": "python",
   "nbconvert_exporter": "python",
   "pygments_lexer": "ipython3",
   "version": "3.7.3"
  }
 },
 "nbformat": 4,
 "nbformat_minor": 2
}
