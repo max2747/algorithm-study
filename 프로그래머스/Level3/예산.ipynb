{
 "cells": [
  {
   "cell_type": "markdown",
   "metadata": {},
   "source": [
    "### idea : 이진트리 사용"
   ]
  },
  {
   "cell_type": "markdown",
   "metadata": {},
   "source": [
    "- 입력\n",
    "    - budgets : 계획한 예산 값 리스트.\n",
    "    - M : 정해진 총 예산 금액.\n",
    "- 문제 : budgets대로 예산을 집행하고 싶은데, 만약 정해진 총 예산 M보다 계획한 예산 금액 합이 크면 그대로 집행할 수 없음. 정해진 예산 M 안에서 가능한 최대 예산을 집행하고 싶음. 이 때 최대 예산 기준을 정해 이보다 큰 예산은 기준치만큼만 집행하게 됨. 이 때 최대 예산 기준은 어떻게 구할까?\n",
    "- 해결\n",
    "    - 처음 min 값을 정할 때 min(budgets)으로 하면 안됨.\n",
    "        - 예산의 최소값보다 정해진 예산이 더 작은 값으로 입력받을 수 있기 때문.\n",
    "    - min, max의 평균(mid)을 기준으로 예산을 계산함(tmp).\n",
    "    - tmp가 정해진 예산 M보다 클 경우 max 값을 mid-1로 계산.\n",
    "        - 그냥 mid로 계산할 경우 mid값이 고정될 수 있음.\n",
    "    - 이외의 경우에서는 min값을 mid+1로 계산."
   ]
  },
  {
   "cell_type": "code",
   "execution_count": 76,
   "metadata": {},
   "outputs": [],
   "source": [
    "def solution(budgets, M):\n",
    "    min_, max_ = 0, max(budgets)\n",
    "    answer = 0\n",
    "    \n",
    "    while min_ <= max_:\n",
    "        mid = (min_ + max_) // 2\n",
    "        print(\"mid : \", mid)\n",
    "        tmp = [i if i < mid else mid for i in budgets]\n",
    "        print(\"tmp : \", tmp)\n",
    "        print(\"Sum : \", sum(tmp))\n",
    "        if sum(tmp) > M:\n",
    "            max_ = mid-1\n",
    "        else:\n",
    "            answer = mid\n",
    "            min_ = mid+1\n",
    "    return answer"
   ]
  },
  {
   "cell_type": "code",
   "execution_count": 77,
   "metadata": {
    "scrolled": false
   },
   "outputs": [
    {
     "name": "stdout",
     "output_type": "stream",
     "text": [
      "mid :  75\n",
      "tmp :  [75, 75, 75, 75]\n",
      "Sum :  300\n",
      "mid :  113\n",
      "tmp :  [113, 110, 113, 113]\n",
      "Sum :  449\n",
      "mid :  132\n",
      "tmp :  [120, 110, 132, 132]\n",
      "Sum :  494\n",
      "mid :  122\n",
      "tmp :  [120, 110, 122, 122]\n",
      "Sum :  474\n",
      "mid :  127\n",
      "tmp :  [120, 110, 127, 127]\n",
      "Sum :  484\n",
      "mid :  129\n",
      "tmp :  [120, 110, 129, 129]\n",
      "Sum :  488\n",
      "mid :  128\n",
      "tmp :  [120, 110, 128, 128]\n",
      "Sum :  486\n"
     ]
    },
    {
     "data": {
      "text/plain": [
       "127"
      ]
     },
     "execution_count": 77,
     "metadata": {},
     "output_type": "execute_result"
    }
   ],
   "source": [
    "solution([120, 110, 140, 150], 485)"
   ]
  },
  {
   "cell_type": "code",
   "execution_count": 61,
   "metadata": {},
   "outputs": [],
   "source": [
    "def solution2(budgets, M):\n",
    "    budgets.sort()\n",
    "    l = len(budgets)\n",
    "    cap = 0\n",
    "    for i, budget in enumerate(budgets):\n",
    "        print(\"cap :\", cap)\n",
    "        print(\"M : \", M)\n",
    "        level = (budget - cap) * (l - i)\n",
    "        print(\"level :\", level)\n",
    "        if level <= M:\n",
    "            cap = budget\n",
    "            M -= level\n",
    "        else:\n",
    "            cap += M // (l - i)\n",
    "            break\n",
    "    return cap"
   ]
  },
  {
   "cell_type": "code",
   "execution_count": 62,
   "metadata": {
    "scrolled": true
   },
   "outputs": [
    {
     "name": "stdout",
     "output_type": "stream",
     "text": [
      "cap : 0\n",
      "M :  485\n",
      "level : 440\n",
      "cap : 110\n",
      "M :  45\n",
      "level : 30\n",
      "cap : 120\n",
      "M :  15\n",
      "level : 40\n"
     ]
    },
    {
     "data": {
      "text/plain": [
       "127"
      ]
     },
     "execution_count": 62,
     "metadata": {},
     "output_type": "execute_result"
    }
   ],
   "source": [
    "solution2([120, 110, 140, 150], 485)"
   ]
  }
 ],
 "metadata": {
  "kernelspec": {
   "display_name": "Python 3",
   "language": "python",
   "name": "python3"
  },
  "language_info": {
   "codemirror_mode": {
    "name": "ipython",
    "version": 3
   },
   "file_extension": ".py",
   "mimetype": "text/x-python",
   "name": "python",
   "nbconvert_exporter": "python",
   "pygments_lexer": "ipython3",
   "version": "3.7.3"
  }
 },
 "nbformat": 4,
 "nbformat_minor": 2
}
