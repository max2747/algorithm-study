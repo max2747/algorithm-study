{
 "cells": [
  {
   "cell_type": "markdown",
   "metadata": {},
   "source": [
    "## Selection Sort(삽입 정렬)"
   ]
  },
  {
   "cell_type": "markdown",
   "metadata": {},
   "source": [
    "- 가장 작은 값을 선택해 맨 앞으로 보내는 알고리즘.\n",
    "- $O(n^2)$"
   ]
  },
  {
   "cell_type": "code",
   "execution_count": 1,
   "metadata": {},
   "outputs": [],
   "source": [
    "def selection_sort(input_list):\n",
    "    sorted_num = 0\n",
    "    while sorted_num != len(input_list):\n",
    "        flag = 0\n",
    "        global_min = max(input_list[sorted_num:]) # 9\n",
    "        global_min_idx = -1\n",
    "        for idx in range(sorted_num, len(input_list)):\n",
    "            if input_list[idx] < global_min:\n",
    "                global_min = input_list[idx]\n",
    "                global_min_idx = idx\n",
    "                flag = 1\n",
    "        if flag == 1 and global_min_idx >= 0:\n",
    "            tmp = input_list[global_min_idx]\n",
    "            input_list[global_min_idx] = input_list[sorted_num]\n",
    "            input_list[sorted_num] = tmp\n",
    "        sorted_num += 1\n",
    "        #print(input_list)\n",
    "    return input_list"
   ]
  },
  {
   "cell_type": "code",
   "execution_count": 2,
   "metadata": {},
   "outputs": [
    {
     "name": "stdout",
     "output_type": "stream",
     "text": [
      "CPU times: user 24 µs, sys: 0 ns, total: 24 µs\n",
      "Wall time: 27.9 µs\n"
     ]
    },
    {
     "data": {
      "text/plain": [
       "[1, 2, 3, 4, 5, 6, 7, 8, 9, 10]"
      ]
     },
     "execution_count": 2,
     "metadata": {},
     "output_type": "execute_result"
    }
   ],
   "source": [
    "%%time\n",
    "selection_sort([1, 10, 5, 8, 7, 6, 4, 3, 2, 9])\n",
    "# [2, 4, 8, 9]"
   ]
  },
  {
   "cell_type": "code",
   "execution_count": 3,
   "metadata": {},
   "outputs": [],
   "source": [
    "def selection_sort_v2(input_list):\n",
    "    for i in range(len(input_list)):\n",
    "        min_val = max(input_list[i:])\n",
    "        min_idx = -1\n",
    "        for j in range(i, len(input_list)):\n",
    "            if min_val > input_list[j]:\n",
    "                min_val = input_list[j]\n",
    "                min_idx = j\n",
    "        tmp = input_list[i]\n",
    "        input_list[i] = input_list[min_idx]\n",
    "        input_list[min_idx] = tmp\n",
    "    return input_list"
   ]
  },
  {
   "cell_type": "code",
   "execution_count": 4,
   "metadata": {},
   "outputs": [
    {
     "name": "stdout",
     "output_type": "stream",
     "text": [
      "CPU times: user 20 µs, sys: 0 ns, total: 20 µs\n",
      "Wall time: 23.1 µs\n"
     ]
    },
    {
     "data": {
      "text/plain": [
       "[1, 2, 3, 4, 5, 6, 7, 8, 9, 10]"
      ]
     },
     "execution_count": 4,
     "metadata": {},
     "output_type": "execute_result"
    }
   ],
   "source": [
    "%%time\n",
    "selection_sort_v2([1, 10, 5, 8, 7, 6, 4, 3, 2, 9])"
   ]
  },
  {
   "cell_type": "markdown",
   "metadata": {},
   "source": [
    "## Bubble sort(버블정렬)\n",
    "- 옆의 값과 크기 비교해 정렬. 더 작은 값을 앞으로 보냄\n",
    "- $O(n^2)$"
   ]
  },
  {
   "cell_type": "code",
   "execution_count": 5,
   "metadata": {},
   "outputs": [],
   "source": [
    "def bubble_sort(input_list):\n",
    "    for i in range(len(input_list)):\n",
    "        for j in range(len(input_list)-1 - i):\n",
    "            if input_list[j] > input_list[j + 1]:\n",
    "                tmp = input_list[j]\n",
    "                input_list[j] = input_list[j+1]\n",
    "                input_list[j+1] = tmp\n",
    "    return input_list"
   ]
  },
  {
   "cell_type": "code",
   "execution_count": 14,
   "metadata": {
    "scrolled": true
   },
   "outputs": [
    {
     "data": {
      "text/plain": [
       "[1, 2, 3, 4, 5, 6, 7, 8, 9, 10]"
      ]
     },
     "execution_count": 14,
     "metadata": {},
     "output_type": "execute_result"
    }
   ],
   "source": [
    "bubble_sort([1, 10, 5, 8, 7, 6, 4, 3, 2, 9])"
   ]
  },
  {
   "cell_type": "markdown",
   "metadata": {},
   "source": [
    "## Insertion sort (삽입정렬)"
   ]
  },
  {
   "cell_type": "markdown",
   "metadata": {},
   "source": [
    "- 특정 값이 입력 리스트 중 어느 위치에 삽입되어야하는지 계산함.\n",
    "- $O(n^2)$"
   ]
  },
  {
   "cell_type": "code",
   "execution_count": 94,
   "metadata": {},
   "outputs": [],
   "source": [
    "def insertion_sort(input_list):\n",
    "    for i in range(len(input_list)-1):\n",
    "        j = i\n",
    "        while j >= 0 and input_list[j] > input_list[j+1] :\n",
    "            tmp = input_list[j]\n",
    "            input_list[j] = input_list[j+1]\n",
    "            input_list[j+1] = tmp\n",
    "            j -=1\n",
    "    return input_list"
   ]
  },
  {
   "cell_type": "code",
   "execution_count": 95,
   "metadata": {
    "scrolled": true
   },
   "outputs": [
    {
     "data": {
      "text/plain": [
       "[1, 2, 3, 4, 5, 6, 7, 8, 9, 10]"
      ]
     },
     "execution_count": 95,
     "metadata": {},
     "output_type": "execute_result"
    }
   ],
   "source": [
    "insertion_sort([1, 10, 5, 8, 7, 6, 4, 3, 2, 9])"
   ]
  },
  {
   "cell_type": "code",
   "execution_count": null,
   "metadata": {},
   "outputs": [],
   "source": []
  }
 ],
 "metadata": {
  "kernelspec": {
   "display_name": "Python 3",
   "language": "python",
   "name": "python3"
  },
  "language_info": {
   "codemirror_mode": {
    "name": "ipython",
    "version": 3
   },
   "file_extension": ".py",
   "mimetype": "text/x-python",
   "name": "python",
   "nbconvert_exporter": "python",
   "pygments_lexer": "ipython3",
   "version": "3.7.3"
  }
 },
 "nbformat": 4,
 "nbformat_minor": 2
}
