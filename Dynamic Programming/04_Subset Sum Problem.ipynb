{
 "cells": [
  {
   "cell_type": "code",
   "execution_count": 39,
   "metadata": {},
   "outputs": [],
   "source": [
    "def subsetSum(arr, total_sum):\n",
    "    m = [[True for i in range(total_sum + 1)] for j in range(len(arr))]\n",
    "    for i in range(len(arr)):\n",
    "        for j in range(total_sum + 1):\n",
    "            if j == 0: continue\n",
    "            if j < arr[i]:\n",
    "                m[i][j] = False if i == 0 else m[i-1][j]\n",
    "            elif j == arr[i]:\n",
    "                m[i][j] = True\n",
    "            else:\n",
    "                m[i][j] = False if i == 0 else (m[i-1][j- arr[i]] or m[i-1][j])\n",
    "\n",
    "    selected_arr = []\n",
    "    row_idx = len(arr)-1\n",
    "    col_idx = total_sum\n",
    "    for i in range(len(m)):\n",
    "        print(m[i])\n",
    "    while col_idx > 0 and row_idx >= 0:\n",
    "        if m[row_idx][col_idx - arr[row_idx]] == True and col_idx >= arr[row_idx]:\n",
    "            selected_arr.append(arr[row_idx])\n",
    "            col_idx -= arr[row_idx]\n",
    "            row_idx -= 1\n",
    "        else:\n",
    "            row_idx -=1\n",
    "    return m[len(arr)-1][total_sum], selected_arr"
   ]
  },
  {
   "cell_type": "code",
   "execution_count": 40,
   "metadata": {},
   "outputs": [
    {
     "name": "stdout",
     "output_type": "stream",
     "text": [
      "[True, False, True, False, False, False, False, False, False, False, False, False]\n",
      "[True, False, True, True, False, True, False, False, False, False, False, False]\n",
      "[True, False, True, True, False, True, False, True, False, True, True, False]\n",
      "[True, False, True, True, False, True, False, True, True, True, True, True]\n",
      "[True, False, True, True, False, True, False, True, True, True, True, True]\n",
      "4 11 10\n",
      "3 11 8\n",
      "2 3 7\n",
      "1 3 3\n"
     ]
    },
    {
     "data": {
      "text/plain": [
       "(True, [8, 3])"
      ]
     },
     "execution_count": 40,
     "metadata": {},
     "output_type": "execute_result"
    }
   ],
   "source": [
    "arr = [2, 3, 7, 8, 10]\n",
    "totalSum = 11\n",
    "subsetSum(arr, totalSum)"
   ]
  },
  {
   "cell_type": "code",
   "execution_count": null,
   "metadata": {},
   "outputs": [],
   "source": []
  }
 ],
 "metadata": {
  "kernelspec": {
   "display_name": "Python 3",
   "language": "python",
   "name": "python3"
  },
  "language_info": {
   "codemirror_mode": {
    "name": "ipython",
    "version": 3
   },
   "file_extension": ".py",
   "mimetype": "text/x-python",
   "name": "python",
   "nbconvert_exporter": "python",
   "pygments_lexer": "ipython3",
   "version": "3.7.3"
  }
 },
 "nbformat": 4,
 "nbformat_minor": 2
}
