{
 "cells": [
  {
   "cell_type": "code",
   "execution_count": 24,
   "metadata": {},
   "outputs": [],
   "source": [
    "import sys\n",
    "\n",
    "def optimalBST(tup):\n",
    "    val_list = [i[1] for i in sorted(tup, key = lambda item:item[1])]\n",
    "    freq_list = [i[2] for i in sorted(tup, key = lambda item:item[1])]\n",
    "    m = [[0 for i in range(len(val_list))] for j in range(len(val_list))]\n",
    "    root = [[0 for i in range(len(val_list))] for j in range(len(val_list))]\n",
    "    for i in range(len(val_list)):\n",
    "        m[i][i] = freq_list[i]\n",
    "    for L in range(1, len(val_list) + 1):\n",
    "        for i in range(len(val_list) - L):\n",
    "            j = i + L\n",
    "            m[i][j] = sys.maxsize\n",
    "            for k in range(i, j+1):\n",
    "                c = m[i][k-1] if k > i else 0\n",
    "                c += m[k+1][j] if k < j else 0\n",
    "                c += sum(freq_list[i : j+1])\n",
    "                if c < m[i][j]:\n",
    "                    m[i][j] = c\n",
    "                    root[i][j] = k\n",
    "    for i in range(len(val_list)):\n",
    "        print(root[i])\n",
    "    return m[0][len(freq_list)-1], root"
   ]
  },
  {
   "cell_type": "code",
   "execution_count": 25,
   "metadata": {},
   "outputs": [
    {
     "name": "stdout",
     "output_type": "stream",
     "text": [
      "[0, 0, 2, 2]\n",
      "[0, 0, 2, 2]\n",
      "[0, 0, 0, 2]\n",
      "[0, 0, 0, 0]\n"
     ]
    },
    {
     "data": {
      "text/plain": [
       "(26, [[0, 0, 2, 2], [0, 0, 2, 2], [0, 0, 0, 2], [0, 0, 0, 0]])"
      ]
     },
     "execution_count": 25,
     "metadata": {},
     "output_type": "execute_result"
    }
   ],
   "source": [
    "optimalBST(tup)"
   ]
  },
  {
   "cell_type": "code",
   "execution_count": null,
   "metadata": {},
   "outputs": [],
   "source": []
  }
 ],
 "metadata": {
  "kernelspec": {
   "display_name": "Python 3",
   "language": "python",
   "name": "python3"
  },
  "language_info": {
   "codemirror_mode": {
    "name": "ipython",
    "version": 3
   },
   "file_extension": ".py",
   "mimetype": "text/x-python",
   "name": "python",
   "nbconvert_exporter": "python",
   "pygments_lexer": "ipython3",
   "version": "3.7.3"
  }
 },
 "nbformat": 4,
 "nbformat_minor": 2
}
