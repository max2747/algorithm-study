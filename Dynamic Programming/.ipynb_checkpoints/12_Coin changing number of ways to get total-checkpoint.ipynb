{
 "cells": [
  {
   "cell_type": "code",
   "execution_count": 42,
   "metadata": {},
   "outputs": [],
   "source": [
    "def coinChangingWays(coins, total):\n",
    "    num_coins = len(coins)\n",
    "    m = [[1 for i in range(total+1)] for j in range(num_coins)]\n",
    "    for i in range(num_coins):\n",
    "        for j in range(1, total+1):\n",
    "            if coins[i] > j: \n",
    "                m[i][j] = m[i-1][j] if i > 0 else j//coins[i]\n",
    "            else:\n",
    "                m[i][j] = m[i][j - coins[i]] + m[i-1][j] if i > 0 else m[i][j - coins[i]]\n",
    "    for i in range(len(m)):\n",
    "        print(m[i])\n",
    "    return m[num_coins - 1][total]"
   ]
  },
  {
   "cell_type": "code",
   "execution_count": 43,
   "metadata": {},
   "outputs": [
    {
     "name": "stdout",
     "output_type": "stream",
     "text": [
      "[1, 1, 1, 1, 1, 1]\n",
      "[1, 1, 2, 2, 3, 3]\n",
      "[1, 1, 2, 3, 4, 5]\n"
     ]
    },
    {
     "data": {
      "text/plain": [
       "5"
      ]
     },
     "execution_count": 43,
     "metadata": {},
     "output_type": "execute_result"
    }
   ],
   "source": [
    "coinChangingWays([1, 2, 3], 5)"
   ]
  },
  {
   "cell_type": "code",
   "execution_count": 46,
   "metadata": {},
   "outputs": [
    {
     "name": "stdout",
     "output_type": "stream",
     "text": [
      "[1, 0, 0, 1, 0, 0]\n",
      "[1, 0, 1, 1, 1, 1]\n",
      "[1, 1, 2, 3, 4, 5]\n"
     ]
    },
    {
     "data": {
      "text/plain": [
       "5"
      ]
     },
     "execution_count": 46,
     "metadata": {},
     "output_type": "execute_result"
    }
   ],
   "source": [
    "coinChangingWays([3, 2, 1], 5)"
   ]
  },
  {
   "cell_type": "code",
   "execution_count": null,
   "metadata": {},
   "outputs": [],
   "source": []
  }
 ],
 "metadata": {
  "kernelspec": {
   "display_name": "Python 3",
   "language": "python",
   "name": "python3"
  },
  "language_info": {
   "codemirror_mode": {
    "name": "ipython",
    "version": 3
   },
   "file_extension": ".py",
   "mimetype": "text/x-python",
   "name": "python",
   "nbconvert_exporter": "python",
   "pygments_lexer": "ipython3",
   "version": "3.7.3"
  }
 },
 "nbformat": 4,
 "nbformat_minor": 2
}
