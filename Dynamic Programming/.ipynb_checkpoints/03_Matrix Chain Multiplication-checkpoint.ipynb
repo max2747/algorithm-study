{
 "cells": [
  {
   "cell_type": "markdown",
   "metadata": {},
   "source": [
    "### Matrix Chain Multiplication\n",
    "- matrix shape list가 주어짐\n",
    "- matrix 곱셈 연산할 때 연산 수를 최소화하기 위한 방법을 찾는 알고리즘"
   ]
  },
  {
   "cell_type": "code",
   "execution_count": 75,
   "metadata": {
    "scrolled": true
   },
   "outputs": [
    {
     "data": {
      "text/plain": [
       "124"
      ]
     },
     "execution_count": 75,
     "metadata": {},
     "output_type": "execute_result"
    }
   ],
   "source": [
    "import sys\n",
    "\n",
    "def matrixMultiplicationCost(arr):\n",
    "    m = [[0 for i in range(len(arr))] for j in range(len(arr))]\n",
    "    q = 0\n",
    "    for L in range(2, len(arr)):\n",
    "        for i in range(len(arr) - L): # i = 시작 index\n",
    "            j = i + L # j = 끝 index\n",
    "            m[i][j] = sys.maxsize\n",
    "            for k in range(i+1, j): # k = 중간 index\n",
    "                q = m[i][k] + m[k][j] + arr[i]* arr[k]*arr[j]\n",
    "                if q < m[i][j]:\n",
    "                    m[i][j] = q\n",
    "    return m[0][len(arr)-1]\n",
    "\n",
    "matrixMultiplicationCost([2, 3, 6, 4, 5])"
   ]
  },
  {
   "cell_type": "code",
   "execution_count": null,
   "metadata": {},
   "outputs": [],
   "source": []
  }
 ],
 "metadata": {
  "kernelspec": {
   "display_name": "Python 3",
   "language": "python",
   "name": "python3"
  },
  "language_info": {
   "codemirror_mode": {
    "name": "ipython",
    "version": 3
   },
   "file_extension": ".py",
   "mimetype": "text/x-python",
   "name": "python",
   "nbconvert_exporter": "python",
   "pygments_lexer": "ipython3",
   "version": "3.7.3"
  }
 },
 "nbformat": 4,
 "nbformat_minor": 2
}
