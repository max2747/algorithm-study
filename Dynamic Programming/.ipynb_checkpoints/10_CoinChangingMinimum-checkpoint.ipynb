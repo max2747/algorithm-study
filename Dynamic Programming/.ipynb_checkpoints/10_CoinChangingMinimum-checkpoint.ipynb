{
 "cells": [
  {
   "cell_type": "code",
   "execution_count": 3,
   "metadata": {},
   "outputs": [],
   "source": [
    "import sys\n",
    "def coinChangingMinimum(total, coins):\n",
    "    total_coin = [sys.maxsize if i != 0 else 0 for i in range(total + 1)]\n",
    "    coin_idx = [-1 for i in range(total + 1)]\n",
    "    for idx, coin in enumerate(coins):\n",
    "        for tot in range(1, total+1):\n",
    "            if coin <= tot:\n",
    "                if total_coin[tot] > total_coin[tot - coin] + 1:\n",
    "                    total_coin[tot] = total_coin[tot - coin] + 1\n",
    "                    coin_idx[tot] = idx\n",
    "    \n",
    "    total_coin_idx = total\n",
    "    selected_coin = []\n",
    "    while total_coin_idx > 0:\n",
    "        selected_coin.append(coins[coin_idx[total_coin_idx]])\n",
    "        total_coin_idx -= coins[coin_idx[total_coin_idx]]\n",
    "    \n",
    "    return total_coin[-1], selected_coin\n",
    "            "
   ]
  },
  {
   "cell_type": "code",
   "execution_count": 4,
   "metadata": {},
   "outputs": [
    {
     "data": {
      "text/plain": [
       "(2, [6, 7])"
      ]
     },
     "execution_count": 4,
     "metadata": {},
     "output_type": "execute_result"
    }
   ],
   "source": [
    "coinChangingMinimum(13, [7, 2, 3, 6])"
   ]
  },
  {
   "cell_type": "code",
   "execution_count": null,
   "metadata": {},
   "outputs": [],
   "source": []
  }
 ],
 "metadata": {
  "kernelspec": {
   "display_name": "Python 3",
   "language": "python",
   "name": "python3"
  },
  "language_info": {
   "codemirror_mode": {
    "name": "ipython",
    "version": 3
   },
   "file_extension": ".py",
   "mimetype": "text/x-python",
   "name": "python",
   "nbconvert_exporter": "python",
   "pygments_lexer": "ipython3",
   "version": "3.7.3"
  }
 },
 "nbformat": 4,
 "nbformat_minor": 2
}
