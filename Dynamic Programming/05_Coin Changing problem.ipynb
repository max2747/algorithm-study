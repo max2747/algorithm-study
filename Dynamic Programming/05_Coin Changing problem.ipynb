{
 "cells": [
  {
   "cell_type": "code",
   "execution_count": 25,
   "metadata": {},
   "outputs": [],
   "source": [
    "def coinChanging(arr, total):\n",
    "    m = [[0 for i in range(total + 1)] for j in range(len(arr))]\n",
    "    for i in range(len(arr)):\n",
    "        for j in range(total + 1):\n",
    "            if j == 0: continue\n",
    "            if j < arr[i] :\n",
    "                m[i][j] = m[i-1][j] if i > 0 else (j // arr[i] + 1 * (1 if j % arr[i] else 0))\n",
    "            else:\n",
    "                m[i][j] = min(m[i-1][j - arr[i]] + 1, m[i-1][j]) if i > 0 else (j // arr[i] + 1 * (1 if j % arr[i] else 0))\n",
    "    selected_arr = []\n",
    "    row_idx = len(arr) -1\n",
    "    col_idx = total\n",
    "    while row_idx >= 0 and col_idx > 0:\n",
    "        if m[row_idx][col_idx] == m[row_idx - 1][col_idx]: \n",
    "            row_idx -= 1\n",
    "        else:\n",
    "            selected_arr.append(arr[row_idx])\n",
    "            col_idx = col_idx - arr[row_idx]\n",
    "            row_idx -= 1\n",
    "    return m[len(arr)-1][total], selected_arr"
   ]
  },
  {
   "cell_type": "code",
   "execution_count": 26,
   "metadata": {},
   "outputs": [
    {
     "data": {
      "text/plain": [
       "(2, [6, 5])"
      ]
     },
     "execution_count": 26,
     "metadata": {},
     "output_type": "execute_result"
    }
   ],
   "source": [
    "coinChanging([1, 5, 6, 8], total=11)"
   ]
  },
  {
   "cell_type": "code",
   "execution_count": null,
   "metadata": {},
   "outputs": [],
   "source": []
  }
 ],
 "metadata": {
  "kernelspec": {
   "display_name": "Python 3",
   "language": "python",
   "name": "python3"
  },
  "language_info": {
   "codemirror_mode": {
    "name": "ipython",
    "version": 3
   },
   "file_extension": ".py",
   "mimetype": "text/x-python",
   "name": "python",
   "nbconvert_exporter": "python",
   "pygments_lexer": "ipython3",
   "version": "3.7.3"
  }
 },
 "nbformat": 4,
 "nbformat_minor": 2
}
