{
 "cells": [
  {
   "cell_type": "code",
   "execution_count": 36,
   "metadata": {},
   "outputs": [],
   "source": [
    "def cuttingRod(total, len_profit_dict):\n",
    "    len_list = [key for key, val in sorted(len_profit_dict.items(), key=lambda item:item[1])]\n",
    "    profit_list = [val for key, val in sorted(len_profit_dict.items(), key=lambda item:item[1])]\n",
    "    m = [[0 for i in range(total+1)] for j in range(len(len_list))]\n",
    "    for i in range(len(len_list)):\n",
    "        for j in range(total+1):\n",
    "            if len_list[i] > j:\n",
    "                m[i][j] = m[i-1][j] if i > 0 else 0\n",
    "            else:\n",
    "                m[i][j] = max(m[i-1][j], m[i][j - len_list[i]] + profit_list[i]) if i > 0 else (j // len_list[i]) * profit_list[i]\n",
    "    \n",
    "    row_idx = len(len_list)-1\n",
    "    col_idx = total\n",
    "    selected_rod = []\n",
    "    while m[row_idx][col_idx] != 0:\n",
    "        if m[row_idx][col_idx] == m[row_idx - 1][col_idx] and row_idx > 0:\n",
    "            row_idx -= 1\n",
    "        elif m[row_idx][col_idx] - profit_list[row_idx] == m[row_idx][col_idx  - len_list[row_idx] ]:\n",
    "            col_idx -= len_list[row_idx]\n",
    "            selected_rod.append(len_list[row_idx])\n",
    "        #col_idx -= 1\n",
    "    return m[len(len_list)-1][total], selected_rod"
   ]
  },
  {
   "cell_type": "code",
   "execution_count": 37,
   "metadata": {},
   "outputs": [
    {
     "data": {
      "text/plain": [
       "(12, [2, 2, 1])"
      ]
     },
     "execution_count": 37,
     "metadata": {},
     "output_type": "execute_result"
    }
   ],
   "source": [
    "cuttingRod(5, {1:2, 2:5, 3:7, 4:8})"
   ]
  },
  {
   "cell_type": "code",
   "execution_count": null,
   "metadata": {},
   "outputs": [],
   "source": []
  }
 ],
 "metadata": {
  "kernelspec": {
   "display_name": "Python 3",
   "language": "python",
   "name": "python3"
  },
  "language_info": {
   "codemirror_mode": {
    "name": "ipython",
    "version": 3
   },
   "file_extension": ".py",
   "mimetype": "text/x-python",
   "name": "python",
   "nbconvert_exporter": "python",
   "pygments_lexer": "ipython3",
   "version": "3.7.3"
  }
 },
 "nbformat": 4,
 "nbformat_minor": 2
}
