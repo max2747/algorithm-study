{
 "cells": [
  {
   "cell_type": "code",
   "execution_count": 3,
   "metadata": {},
   "outputs": [],
   "source": [
    "def regularExpression(string, pattern):\n",
    "    m = [[False for i in range(len(pattern) + 1)] for j in range(len(string) + 1)]\n",
    "    m[0][0] = True\n",
    "    for i in range(1, len(pattern) + 1):\n",
    "        for j in range(1, len(string) + 1):\n",
    "            if pattern[j-1] == '.' or string[i-1] == pattern[j-1]:\n",
    "                m[i][j] = m[i-1][j-1]\n",
    "            elif pattern[j-1] == '*':\n",
    "                m[i][j] = m[i][j-2]\n",
    "                if pattern[j-2] == string[i-1] or pattern[j-2] == '.':\n",
    "                    m[i][j] = m[i-1][j]\n",
    "            else: m[i][j] = False\n",
    "    for i in range(len(m)):\n",
    "        print(m[i])\n",
    "    return m[len(string)][len(pattern)]"
   ]
  },
  {
   "cell_type": "code",
   "execution_count": 4,
   "metadata": {},
   "outputs": [
    {
     "name": "stdout",
     "output_type": "stream",
     "text": [
      "[True, False, False, False, False, False, False]\n",
      "[False, True, False, True, False, False, False]\n",
      "[False, False, True, True, False, False, False]\n",
      "[False, False, False, True, False, False, False]\n",
      "[False, False, False, False, True, False, False]\n",
      "[False, False, False, False, False, True, False]\n",
      "[False, False, False, False, False, False, True]\n"
     ]
    },
    {
     "data": {
      "text/plain": [
       "True"
      ]
     },
     "execution_count": 4,
     "metadata": {},
     "output_type": "execute_result"
    }
   ],
   "source": [
    "regularExpression('xaabyc', 'xa*b.c')"
   ]
  },
  {
   "cell_type": "code",
   "execution_count": null,
   "metadata": {},
   "outputs": [],
   "source": [
    "# from games.serializers import GameSerializer\n",
    "# import importlib\n",
    "# import sys\n",
    "# importlib.reload(sys.modules[games.serializers])\n",
    "# import games.serializers import GameSerializer\n",
    "# "
   ]
  }
 ],
 "metadata": {
  "kernelspec": {
   "display_name": "Python 3",
   "language": "python",
   "name": "python3"
  },
  "language_info": {
   "codemirror_mode": {
    "name": "ipython",
    "version": 3
   },
   "file_extension": ".py",
   "mimetype": "text/x-python",
   "name": "python",
   "nbconvert_exporter": "python",
   "pygments_lexer": "ipython3",
   "version": "3.7.3"
  }
 },
 "nbformat": 4,
 "nbformat_minor": 2
}
