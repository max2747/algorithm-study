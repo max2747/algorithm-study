{
 "cells": [
  {
   "cell_type": "code",
   "execution_count": 2,
   "metadata": {},
   "outputs": [],
   "source": [
    "def LPS(arr):\n",
    "    arr_len = len(arr)\n",
    "    m = [[0 for i in range(arr_len)] for j in range(arr_len)]\n",
    "    for i in range(arr_len) : m[i][i] = 1\n",
    "    for L in range(2, arr_len + 1):\n",
    "        for i in range(arr_len - L + 1):\n",
    "            j = L + i - 1\n",
    "            if arr[i] == arr[j] :\n",
    "                m[i][j] = m[i+1][j-1] + 2\n",
    "            else:\n",
    "                m[i][j] = max(m[i+1][j], m[i][j-1])\n",
    "    for i in range(arr_len):\n",
    "        print(m[i])\n",
    "\n",
    "    row_idx = 0\n",
    "    col_idx = arr_len - 1\n",
    "    selected_chr = []\n",
    "    while m[row_idx][col_idx] >= 1:\n",
    "        if m[row_idx][col_idx] - 2 == m[row_idx + 1][col_idx - 1] or m[row_idx][col_idx] == 1:\n",
    "            selected_chr.append(arr[col_idx])\n",
    "            col_idx -= 1\n",
    "            row_idx += 1\n",
    "        else:\n",
    "            row_idx = row_idx + 1 if m[row_idx][col_idx] < m[row_idx + 1][col_idx] else row_idx\n",
    "            col_idx = col_idx if m[row_idx][col_idx] < m[row_idx + 1][col_idx] else col_idx - 1\n",
    "    print(selected_chr)\n",
    "            \n",
    "    return m[0][arr_len - 1]"
   ]
  },
  {
   "cell_type": "code",
   "execution_count": 3,
   "metadata": {},
   "outputs": [
    {
     "name": "stdout",
     "output_type": "stream",
     "text": [
      "[1, 1, 1, 1, 3, 5]\n",
      "[0, 1, 1, 1, 3, 3]\n",
      "[0, 0, 1, 1, 3, 3]\n",
      "[0, 0, 0, 1, 1, 1]\n",
      "[0, 0, 0, 0, 1, 1]\n",
      "[0, 0, 0, 0, 0, 1]\n",
      "['a', 'b', 'd']\n"
     ]
    },
    {
     "data": {
      "text/plain": [
       "5"
      ]
     },
     "execution_count": 3,
     "metadata": {},
     "output_type": "execute_result"
    }
   ],
   "source": [
    "LPS('agbdba')"
   ]
  },
  {
   "cell_type": "code",
   "execution_count": null,
   "metadata": {},
   "outputs": [],
   "source": []
  }
 ],
 "metadata": {
  "kernelspec": {
   "display_name": "Python 3",
   "language": "python",
   "name": "python3"
  },
  "language_info": {
   "codemirror_mode": {
    "name": "ipython",
    "version": 3
   },
   "file_extension": ".py",
   "mimetype": "text/x-python",
   "name": "python",
   "nbconvert_exporter": "python",
   "pygments_lexer": "ipython3",
   "version": "3.7.3"
  }
 },
 "nbformat": 4,
 "nbformat_minor": 2
}
