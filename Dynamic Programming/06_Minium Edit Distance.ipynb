{
 "cells": [
  {
   "cell_type": "markdown",
   "metadata": {},
   "source": [
    "So the best way to understand how this works is to analyze what the recursive solution would be. \n",
    "\n",
    "Lets say the main recursive function for minimum edits from str1 to str2 is minEdits(str1, str2). This function first compares str1[end] and str2[end] (the last characters of both strings), because if they are the same then it means that the result is equal to the minimum edits required to make the str1 and str2 without str1[end] and str2[end], which is minEdits(str1[0..end-1], str2[0..end-1]). Hence T[i][j] = T[i-1][j-1].\n",
    "\n",
    "However if str1[end] and str2[end] are NOT the same, then we have 3 potential ways to go from str1 to str2:\n",
    "1. Removing str1[end] and then going from str1[0..end-1] to str2.\n",
    "2. Going from str1 to str2[0..end-1] and then adding str2[end]. \n",
    "3. Going from str1[0..end-1] to str2[0..end-1] and then editing str1[end] to be str2[end].\n",
    "\n",
    "So the minimum edits for the options above are:\n",
    "1. minEdits(str1[0..end-1], str2)+1 (the +1 comes from the remove operation), hence T[i-1][j]+1.\n",
    "2. minEdits(str1, str2[0..end-1])+1 (+1 from the add), hence T[i][j-1]+1.\n",
    "3. minEdits(str1[0..end-1], str2[0..end-1])+1 (+1 from the edit), hence T[i-1][j-1]+1 \n",
    "\n",
    "Therefore, when str1[end] and str2[end] are not the same, the minEdits(str1, str2) is the minimum between the options above, which is T[i][j] = MIN(T[i-1][j]+1, T[i][j-1]+1, T[i-1][j-1]+1). \n",
    "\n",
    "Probably the main reason why it was confusing at first is because he factored out the +1 from all 3 options above and he added it back in after finding the min between the options, which makes it a lot harder to picture."
   ]
  },
  {
   "cell_type": "code",
   "execution_count": 21,
   "metadata": {},
   "outputs": [],
   "source": [
    "def minimunEditDistance(str1, str2):\n",
    "    str1_len = len(str1)\n",
    "    str2_len = len(str2)\n",
    "    m = [[0 for i in range(str1_len)] for j in range(str2_len)]\n",
    "    for i in range(str2_len):\n",
    "        for j in range(str1_len):\n",
    "            if i == 0 and j == 0 : m[0][0] = 0 if str1[0] == str2[0] else 1\n",
    "            elif str1[j] == str2[i] :\n",
    "                m[i][j] = m[i-1][j-1] if i > 0 else m[i][j-1]\n",
    "            else:\n",
    "                m[i][j] = min(m[i-1][j], m[i][j-1], m[i-1][j-1]) + 1 if i > 0 and j > 0 else (m[i][j-1] + 1 if i == 0 else m[i-1][j] + 1)\n",
    "    \n",
    "    row_idx = len(str2) -1\n",
    "    col_idx = len(str1) - 1\n",
    "    while row_idx >= 0 and col_idx >= 0:\n",
    "        if row_idx == 0 and col_idx == 0:\n",
    "            print(str1[row_idx], \"change or delete\")\n",
    "        elif m[row_idx][col_idx] == m[row_idx-1][col_idx-1]:\n",
    "            row_idx -= 1\n",
    "            col_idx -= 1\n",
    "        elif m[row_idx][col_idx] == m[row_idx - 1][col_idx-1] + 1:\n",
    "            print(str1[col_idx], \" -> \", str2[row_idx])\n",
    "            col_idx -= 1\n",
    "            row_idx -= 1\n",
    "        else:\n",
    "            print(str1[col_idx] , \" -> delete\")\n",
    "            col_idx -= 1\n",
    "            row_idx -= 1\n",
    "    return m[str2_len - 1][str1_len - 1]"
   ]
  },
  {
   "cell_type": "code",
   "execution_count": 22,
   "metadata": {},
   "outputs": [
    {
     "name": "stdout",
     "output_type": "stream",
     "text": [
      "f  ->  d\n",
      "c  ->  z\n",
      "b  -> delete\n"
     ]
    },
    {
     "data": {
      "text/plain": [
       "3"
      ]
     },
     "execution_count": 22,
     "metadata": {},
     "output_type": "execute_result"
    }
   ],
   "source": [
    "minimunEditDistance('abcdef', 'azced')"
   ]
  },
  {
   "cell_type": "code",
   "execution_count": null,
   "metadata": {},
   "outputs": [],
   "source": []
  }
 ],
 "metadata": {
  "kernelspec": {
   "display_name": "Python 3",
   "language": "python",
   "name": "python3"
  },
  "language_info": {
   "codemirror_mode": {
    "name": "ipython",
    "version": 3
   },
   "file_extension": ".py",
   "mimetype": "text/x-python",
   "name": "python",
   "nbconvert_exporter": "python",
   "pygments_lexer": "ipython3",
   "version": "3.7.3"
  }
 },
 "nbformat": 4,
 "nbformat_minor": 2
}
