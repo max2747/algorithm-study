{
 "cells": [
  {
   "cell_type": "code",
   "execution_count": 7,
   "metadata": {},
   "outputs": [],
   "source": [
    "def wildCardMatching(pattern, string):\n",
    "    m = [[False for i in range(len(pattern) + 1)] for j in range(len(string)+1)]\n",
    "    m[0][0] = True\n",
    "    for i in range(1, len(string) + 1):\n",
    "        for j in range(1, len(pattern) + 1):\n",
    "            if pattern[j-1] == string[i-1] or pattern[j-1] == '?':\n",
    "                m[i][j] = m[i-1][j-1]\n",
    "            elif pattern[j-1] == '*':\n",
    "                m[i][j] = (m[i][j-1] or m[i-1][j])\n",
    "            else:\n",
    "                m[i][j] = False\n",
    "    return m[len(string)][len(pattern)]"
   ]
  },
  {
   "cell_type": "code",
   "execution_count": 8,
   "metadata": {},
   "outputs": [
    {
     "data": {
      "text/plain": [
       "True"
      ]
     },
     "execution_count": 8,
     "metadata": {},
     "output_type": "execute_result"
    }
   ],
   "source": [
    "wildCardMatching('x?y*z', 'xaylmz')"
   ]
  },
  {
   "cell_type": "code",
   "execution_count": null,
   "metadata": {},
   "outputs": [],
   "source": []
  }
 ],
 "metadata": {
  "kernelspec": {
   "display_name": "Python 3",
   "language": "python",
   "name": "python3"
  },
  "language_info": {
   "codemirror_mode": {
    "name": "ipython",
    "version": 3
   },
   "file_extension": ".py",
   "mimetype": "text/x-python",
   "name": "python",
   "nbconvert_exporter": "python",
   "pygments_lexer": "ipython3",
   "version": "3.7.3"
  }
 },
 "nbformat": 4,
 "nbformat_minor": 2
}
