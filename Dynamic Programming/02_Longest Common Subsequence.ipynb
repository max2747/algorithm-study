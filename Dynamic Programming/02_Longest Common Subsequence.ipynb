{
 "cells": [
  {
   "cell_type": "code",
   "execution_count": 8,
   "metadata": {},
   "outputs": [
    {
     "name": "stdout",
     "output_type": "stream",
     "text": [
      "[0, 0, 0, 0, 0, 0, 0]\n",
      "[0, 1, 1, 1, 1, 1, 1]\n",
      "[0, 1, 1, 2, 2, 2, 2]\n",
      "[0, 1, 2, 2, 2, 2, 2]\n",
      "[0, 1, 2, 3, 3, 3, 3]\n",
      "[0, 1, 2, 3, 3, 3, 4]\n"
     ]
    },
    {
     "data": {
      "text/plain": [
       "(4, ['f', 'a', 'c', 'a'])"
      ]
     },
     "execution_count": 8,
     "metadata": {},
     "output_type": "execute_result"
    }
   ],
   "source": [
    "def longestCommonSubsequence(str1, str2):\n",
    "    len_str1 = len(str1)\n",
    "    len_str2 = len(str2)\n",
    "    m = [[0 for i in range(len_str1 + 1)] for j in range(len_str2 + 1)]\n",
    "    for i in range(1, len_str2 + 1):\n",
    "        for j in range(1, len_str1 + 1):\n",
    "            if str1[j-1] == str2[i-1]:\n",
    "                m[i][j] = m[i-1][j-1] + 1\n",
    "            else:\n",
    "                m[i][j] = max(m[i-1][j], m[i][j-1])\n",
    "    \n",
    "    selected_chr = []\n",
    "    for i in range(len(m)):\n",
    "        print(m[i])\n",
    "    row_idx = len_str2\n",
    "    col_idx = len_str1\n",
    "    while row_idx >= 0 and col_idx >= 0:\n",
    "        if m[row_idx][col_idx] - 1 == m[row_idx-1][col_idx-1]:\n",
    "            selected_chr.append(str1[col_idx-1])\n",
    "            row_idx -= 1\n",
    "            col_idx -= 1\n",
    "        elif m[row_idx][col_idx] == m[row_idx][col_idx - 1]: \n",
    "            col_idx = col_idx - 1\n",
    "        else: \n",
    "            row_idx -= 1\n",
    "    \n",
    "    return m[len_str2][len_str1], selected_chr\n",
    "\n",
    "str1 = 'abcdaf'\n",
    "str2 = 'acbcf'\n",
    "\n",
    "longestCommonSubsequence(str1, str2)"
   ]
  },
  {
   "cell_type": "code",
   "execution_count": null,
   "metadata": {},
   "outputs": [],
   "source": []
  }
 ],
 "metadata": {
  "kernelspec": {
   "display_name": "Python 3",
   "language": "python",
   "name": "python3"
  },
  "language_info": {
   "codemirror_mode": {
    "name": "ipython",
    "version": 3
   },
   "file_extension": ".py",
   "mimetype": "text/x-python",
   "name": "python",
   "nbconvert_exporter": "python",
   "pygments_lexer": "ipython3",
   "version": "3.7.3"
  }
 },
 "nbformat": 4,
 "nbformat_minor": 2
}
