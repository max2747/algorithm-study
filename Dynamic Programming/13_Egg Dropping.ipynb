{
 "cells": [
  {
   "cell_type": "code",
   "execution_count": 55,
   "metadata": {},
   "outputs": [],
   "source": [
    "def eggDropping(num_eggs, floors):\n",
    "    m = [[0 for i in range(floors + 1)] for j in range(num_eggs + 1)]\n",
    "    for i in range(1, num_eggs+1):\n",
    "        for j in range(1, floors+1):\n",
    "            \n",
    "            if i > j : \n",
    "                m[i][j] = m[i-1][j] if i > 1 else j\n",
    "            else:\n",
    "                m[i][j] = 1 + min(max(m[i-1][k], m[i][j-k-1]) for k in range(j)) if i > 1 else j\n",
    "                # egg가 깨진 경우(i-1; 1 감소), egg가 깨지지 않은 경우(i 그대로)\n",
    "    for i in range(len(m)):\n",
    "        print(m[i])\n",
    "    return m[num_eggs][floors]"
   ]
  },
  {
   "cell_type": "code",
   "execution_count": 56,
   "metadata": {},
   "outputs": [
    {
     "name": "stdout",
     "output_type": "stream",
     "text": [
      "[0, 0, 0, 0, 0, 0, 0]\n",
      "[0, 1, 2, 3, 4, 5, 6]\n",
      "[0, 1, 2, 2, 3, 3, 3]\n"
     ]
    },
    {
     "data": {
      "text/plain": [
       "3"
      ]
     },
     "execution_count": 56,
     "metadata": {},
     "output_type": "execute_result"
    }
   ],
   "source": [
    "eggDropping(2, 6)"
   ]
  },
  {
   "cell_type": "code",
   "execution_count": null,
   "metadata": {},
   "outputs": [],
   "source": []
  }
 ],
 "metadata": {
  "kernelspec": {
   "display_name": "Python 3",
   "language": "python",
   "name": "python3"
  },
  "language_info": {
   "codemirror_mode": {
    "name": "ipython",
    "version": 3
   },
   "file_extension": ".py",
   "mimetype": "text/x-python",
   "name": "python",
   "nbconvert_exporter": "python",
   "pygments_lexer": "ipython3",
   "version": "3.7.3"
  }
 },
 "nbformat": 4,
 "nbformat_minor": 2
}
