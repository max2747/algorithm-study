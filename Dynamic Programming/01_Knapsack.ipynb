{
 "cells": [
  {
   "cell_type": "markdown",
   "metadata": {},
   "source": [
    "### 0/1 Knapsack algorithm\n"
   ]
  },
  {
   "cell_type": "code",
   "execution_count": 5,
   "metadata": {},
   "outputs": [],
   "source": [
    "def knapsack(knapsack_weight, weight_val_dict):\n",
    "    selected_items = []\n",
    "    weight_list = [key for key, val in sorted(weight_val_dict.items(), key = lambda item : item[1])]\n",
    "    val_list = [val for key, val in sorted(weight_val_dict.items(), key = lambda item : item[1])]\n",
    "    m = [[0 for i in range(knapsack_weight + 1)] for j in range(len(val_list)) ]\n",
    "    for i in range(len(val_list)):\n",
    "        for j in range(knapsack_weight + 1):\n",
    "            if i == 0:\n",
    "                if weight_list[i] <= j : m[i][j] = val_list[i]\n",
    "            else:\n",
    "                if weight_list[i] <= j:\n",
    "                    m[i][j] = max(val_list[i] + m[i-1][j - weight_list[i]], m[i-1][j])\n",
    "                else:\n",
    "                    m[i][j] = max(m[i-1][j], m[i][j-1])\n",
    "    \n",
    "    selected_items = []\n",
    "    row_idx = len(val_list) - 1\n",
    "    col_idx = knapsack_weight\n",
    "    while col_idx >= 0 and row_idx >= 0:\n",
    "        print(row_idx, col_idx, m[row_idx][col_idx])\n",
    "        if row_idx == 0 and col_idx != 0:\n",
    "            selected_items.append(weight_list[row_idx])\n",
    "            col_idx = col_idx - weight_list[row_idx]\n",
    "        elif m[row_idx][col_idx] == m[row_idx - 1][col_idx]:\n",
    "            row_idx = row_idx - 1\n",
    "        else:\n",
    "            selected_items.append(weight_list[row_idx])\n",
    "            col_idx = col_idx - weight_list[row_idx]\n",
    "            \n",
    "    return m[len(val_list)-1][knapsack_weight], selected_items"
   ]
  },
  {
   "cell_type": "code",
   "execution_count": 6,
   "metadata": {},
   "outputs": [
    {
     "name": "stdout",
     "output_type": "stream",
     "text": [
      "3 64 350\n",
      "3 24 150\n",
      "2 24 150\n",
      "1 24 150\n",
      "1 8 50\n",
      "0 8 50\n",
      "0 0 0\n"
     ]
    },
    {
     "data": {
      "text/plain": [
       "(350, [40, 16, 8])"
      ]
     },
     "execution_count": 6,
     "metadata": {},
     "output_type": "execute_result"
    }
   ],
   "source": [
    "knapsack(64, {8:50, 16:100, 32:150, 40:200})"
   ]
  },
  {
   "cell_type": "code",
   "execution_count": 7,
   "metadata": {},
   "outputs": [
    {
     "name": "stdout",
     "output_type": "stream",
     "text": [
      "3 7 9\n",
      "2 7 9\n",
      "2 3 4\n",
      "1 3 4\n",
      "1 0 0\n",
      "0 0 0\n"
     ]
    },
    {
     "data": {
      "text/plain": [
       "(9, [4, 3])"
      ]
     },
     "execution_count": 7,
     "metadata": {},
     "output_type": "execute_result"
    }
   ],
   "source": [
    "knapsack_weight = 7\n",
    "weight_val_dict = {1 : 1, 3 : 4, 4 : 5, 5 : 7}\n",
    "\n",
    "knapsack(knapsack_weight, weight_val_dict)"
   ]
  },
  {
   "cell_type": "markdown",
   "metadata": {},
   "source": [
    "-------"
   ]
  }
 ],
 "metadata": {
  "kernelspec": {
   "display_name": "Python 3",
   "language": "python",
   "name": "python3"
  },
  "language_info": {
   "codemirror_mode": {
    "name": "ipython",
    "version": 3
   },
   "file_extension": ".py",
   "mimetype": "text/x-python",
   "name": "python",
   "nbconvert_exporter": "python",
   "pygments_lexer": "ipython3",
   "version": "3.7.3"
  }
 },
 "nbformat": 4,
 "nbformat_minor": 2
}
